{
 "cells": [
  {
   "cell_type": "code",
   "execution_count": 1,
   "metadata": {
    "collapsed": false
   },
   "outputs": [],
   "source": [
    "import pandas as pd\n",
    "\n",
    "\n",
    "# df['raised_amount_usd'] = df['raised_amount_usd'].apply(lambda x: (\"\".join(x.split(\",\"))).strip())\n",
    "# df.loc[df.funding_total_usd == '-', 'raised_amount_usd'] = None\n",
    "# df['raised_amount_usd'] = df['raised_amount_usd'].map(lambda x: float(x) if x is not None else x)\n"
   ]
  },
  {
   "cell_type": "code",
   "execution_count": 2,
   "metadata": {
    "collapsed": true
   },
   "outputs": [],
   "source": [
    "def split_backslash(x):\n",
    "    try:\n",
    "        return str(x).split(\"/\")[1].strip()\n",
    "    except:\n",
    "        return x"
   ]
  },
  {
   "cell_type": "code",
   "execution_count": 3,
   "metadata": {
    "collapsed": false
   },
   "outputs": [
    {
     "name": "stderr",
     "output_type": "stream",
     "text": [
      "/Users/carlo_liquido/anaconda/envs/python2/lib/python2.7/site-packages/pandas/io/parsers.py:1170: DtypeWarning: Columns (10,11,12,13,14,15) have mixed types. Specify dtype option on import or set low_memory=False.\n",
      "  data = self._reader.read(nrows)\n"
     ]
    }
   ],
   "source": [
    "df = pd.read_csv(\"../raw_data_crunchbase/crunchbase-investments.csv\")\n",
    "df = df[df['funded_year']==2013]\n",
    "df['investor_permalink'] = df['investor_permalink'].apply(lambda x: split_backslash(x))\n",
    "df = df.loc[df['investor_permalink']=='organization'] # change to person!!!!!!!\n",
    "\n",
    "# from 20179 to 17617 for raised_amount_usd\n",
    "df = df.loc[df[\"raised_amount_usd\"].notnull()]\n",
    "df['raised_amount_usd'] = df['raised_amount_usd'].apply(lambda x: \"\".join(x.split(\",\")).strip())\n",
    "df.loc[df.raised_amount_usd == '-', 'raised_amount_usd'] = None\n",
    "\n",
    "df['raised_amount_usd'] = df['raised_amount_usd'].map(lambda x: float(x) if x is not None else x)\n",
    "\n",
    "# all present for funding_round_type\n",
    "df = df.loc[df[\"funding_round_type\"].notnull()]\n",
    "# from 17617 to 16553 for company_country_code\n",
    "df = df.loc[df[\"investor_country_code\"].notnull()]\n",
    "df = df.loc[df[\"investor_market\"].notnull()]"
   ]
  },
  {
   "cell_type": "code",
   "execution_count": 4,
   "metadata": {
    "collapsed": false
   },
   "outputs": [
    {
     "data": {
      "text/plain": [
       "(3987, 24)"
      ]
     },
     "execution_count": 4,
     "metadata": {},
     "output_type": "execute_result"
    }
   ],
   "source": [
    "df.shape"
   ]
  },
  {
   "cell_type": "code",
   "execution_count": 5,
   "metadata": {
    "collapsed": false
   },
   "outputs": [
    {
     "data": {
      "text/plain": [
       "Index([u'company_permalink', u'company_name', u'company_category_list',\n",
       "       u'company_market', u'company_country_code', u'company_state_code',\n",
       "       u'company_region', u'company_city', u'investor_permalink',\n",
       "       u'investor_name', u'investor_category_list', u'investor_market',\n",
       "       u'investor_country_code', u'investor_state_code', u'investor_region',\n",
       "       u'investor_city', u'funding_round_permalink', u'funding_round_type',\n",
       "       u'funding_round_code', u'funded_at', u'funded_month', u'funded_quarter',\n",
       "       u'funded_year', u'raised_amount_usd'],\n",
       "      dtype='object')"
      ]
     },
     "execution_count": 5,
     "metadata": {},
     "output_type": "execute_result"
    }
   ],
   "source": [
    "df.columns"
   ]
  },
  {
   "cell_type": "code",
   "execution_count": 8,
   "metadata": {
    "collapsed": false
   },
   "outputs": [
    {
     "name": "stdout",
     "output_type": "stream",
     "text": [
      "(802, 4)\n"
     ]
    },
    {
     "data": {
      "text/html": [
       "<div>\n",
       "<table border=\"1\" class=\"dataframe\">\n",
       "  <thead>\n",
       "    <tr style=\"text-align: right;\">\n",
       "      <th></th>\n",
       "      <th>investor_name</th>\n",
       "      <th>investor_market</th>\n",
       "      <th>investor_country_code</th>\n",
       "      <th>raised_amount_usd</th>\n",
       "    </tr>\n",
       "  </thead>\n",
       "  <tbody>\n",
       "    <tr>\n",
       "      <th>0</th>\n",
       "      <td>101 Startups</td>\n",
       "      <td>Finance</td>\n",
       "      <td>ESP</td>\n",
       "      <td>2495275</td>\n",
       "    </tr>\n",
       "    <tr>\n",
       "      <th>1</th>\n",
       "      <td>10Xelerator</td>\n",
       "      <td>Finance</td>\n",
       "      <td>USA</td>\n",
       "      <td>140000</td>\n",
       "    </tr>\n",
       "    <tr>\n",
       "      <th>2</th>\n",
       "      <td>1stMover</td>\n",
       "      <td>Design</td>\n",
       "      <td>DEU</td>\n",
       "      <td>130277</td>\n",
       "    </tr>\n",
       "    <tr>\n",
       "      <th>3</th>\n",
       "      <td>212 Limited</td>\n",
       "      <td>Investment Management</td>\n",
       "      <td>TUR</td>\n",
       "      <td>9000000</td>\n",
       "    </tr>\n",
       "    <tr>\n",
       "      <th>4</th>\n",
       "      <td>21212</td>\n",
       "      <td>Technology</td>\n",
       "      <td>BRA</td>\n",
       "      <td>50000</td>\n",
       "    </tr>\n",
       "  </tbody>\n",
       "</table>\n",
       "</div>"
      ],
      "text/plain": [
       "  investor_name        investor_market investor_country_code  \\\n",
       "0  101 Startups                Finance                   ESP   \n",
       "1   10Xelerator                Finance                   USA   \n",
       "2      1stMover                 Design                   DEU   \n",
       "3   212 Limited  Investment Management                   TUR   \n",
       "4         21212             Technology                   BRA   \n",
       "\n",
       "   raised_amount_usd  \n",
       "0            2495275  \n",
       "1             140000  \n",
       "2             130277  \n",
       "3            9000000  \n",
       "4              50000  "
      ]
     },
     "execution_count": 8,
     "metadata": {},
     "output_type": "execute_result"
    }
   ],
   "source": [
    "subset_df = df[[\"investor_permalink\",\"investor_name\",\"investor_market\",\"investor_country_code\",\"raised_amount_usd\"]]\n",
    "# grouped = subset_df.groupby(['investor_name', 'investor_market'])\n",
    "agg_df = subset_df.groupby(['investor_name','investor_market',\"investor_country_code\"]).sum().reset_index()\n",
    "print(agg_df.shape)\n",
    "agg_df.head()"
   ]
  },
  {
   "cell_type": "code",
   "execution_count": 15,
   "metadata": {
    "collapsed": false
   },
   "outputs": [
    {
     "data": {
      "text/plain": [
       "{'ARG',\n",
       " 'AUS',\n",
       " 'BEL',\n",
       " 'BGR',\n",
       " 'BRA',\n",
       " 'CAN',\n",
       " 'CHE',\n",
       " 'CHL',\n",
       " 'CHN',\n",
       " 'COL',\n",
       " 'CYM',\n",
       " 'CZE',\n",
       " 'DEU',\n",
       " 'DNK',\n",
       " 'EGY',\n",
       " 'ESP',\n",
       " 'EST',\n",
       " 'FIN',\n",
       " 'FRA',\n",
       " 'GBR',\n",
       " 'GRC',\n",
       " 'HKG',\n",
       " 'IND',\n",
       " 'IRL',\n",
       " 'ISR',\n",
       " 'ITA',\n",
       " 'JPN',\n",
       " 'KOR',\n",
       " 'LTU',\n",
       " 'LUX',\n",
       " 'MEX',\n",
       " 'NLD',\n",
       " 'NOR',\n",
       " 'PHL',\n",
       " 'POL',\n",
       " 'PRT',\n",
       " 'ROM',\n",
       " 'RUS',\n",
       " 'SAU',\n",
       " 'SGP',\n",
       " 'SWE',\n",
       " 'THA',\n",
       " 'TUR',\n",
       " 'TWN',\n",
       " 'UKR',\n",
       " 'USA'}"
      ]
     },
     "execution_count": 15,
     "metadata": {},
     "output_type": "execute_result"
    }
   ],
   "source": [
    "market_list = agg_df[\"investor_country_code\"]\n",
    "(set(market_list))"
   ]
  },
  {
   "cell_type": "code",
   "execution_count": null,
   "metadata": {
    "collapsed": true
   },
   "outputs": [],
   "source": [
    "# agg_df.to_csv(\"aggregated-investments.csv\", index=False)"
   ]
  },
  {
   "cell_type": "code",
   "execution_count": 27,
   "metadata": {
    "collapsed": false
   },
   "outputs": [],
   "source": [
    "top_ten = agg_df[agg_df[\"investor_market\"].isin([\"Biotechnology\",\"Software\",\"Clean Technology\",\"Mobile\",\"Healthcare\",\"E-commerce\",\"Enterprise Software\",\"Finance\", \"Hardware + Software\", \"Advertising\"])]"
   ]
  },
  {
   "cell_type": "code",
   "execution_count": 28,
   "metadata": {
    "collapsed": false
   },
   "outputs": [
    {
     "data": {
      "text/plain": [
       "(254, 4)"
      ]
     },
     "execution_count": 28,
     "metadata": {},
     "output_type": "execute_result"
    }
   ],
   "source": [
    "top_ten.shape"
   ]
  },
  {
   "cell_type": "code",
   "execution_count": 29,
   "metadata": {
    "collapsed": true
   },
   "outputs": [],
   "source": [
    "top_ten.to_csv(\"top-ten-investors.csv\", index=False)"
   ]
  },
  {
   "cell_type": "code",
   "execution_count": null,
   "metadata": {
    "collapsed": true
   },
   "outputs": [],
   "source": []
  }
 ],
 "metadata": {
  "kernelspec": {
   "display_name": "Python 2",
   "language": "python",
   "name": "python2"
  },
  "language_info": {
   "codemirror_mode": {
    "name": "ipython",
    "version": 2
   },
   "file_extension": ".py",
   "mimetype": "text/x-python",
   "name": "python",
   "nbconvert_exporter": "python",
   "pygments_lexer": "ipython2",
   "version": "2.7.10"
  }
 },
 "nbformat": 4,
 "nbformat_minor": 0
}
