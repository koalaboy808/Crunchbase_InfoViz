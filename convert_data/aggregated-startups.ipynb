{
 "cells": [
  {
   "cell_type": "code",
   "execution_count": 74,
   "metadata": {
    "collapsed": false
   },
   "outputs": [],
   "source": [
    "import pandas as pd\n",
    "\n",
    "\n",
    "# df['raised_amount_usd'] = df['raised_amount_usd'].apply(lambda x: (\"\".join(x.split(\",\"))).strip())\n",
    "# df.loc[df.funding_total_usd == '-', 'raised_amount_usd'] = None\n",
    "# df['raised_amount_usd'] = df['raised_amount_usd'].map(lambda x: float(x) if x is not None else x)\n"
   ]
  },
  {
   "cell_type": "code",
   "execution_count": 75,
   "metadata": {
    "collapsed": true
   },
   "outputs": [],
   "source": [
    "def split_backslash(x):\n",
    "    try:\n",
    "        return str(x).split(\"/\")[1].strip()\n",
    "    except:\n",
    "        return x"
   ]
  },
  {
   "cell_type": "code",
   "execution_count": 76,
   "metadata": {
    "collapsed": false
   },
   "outputs": [],
   "source": [
    "df = pd.read_csv(\"../raw_data_crunchbase/crunchbase-investments.csv\")\n",
    "df = df[df['funded_year']==2013]\n",
    "df['investor_permalink'] = df['investor_permalink'].apply(lambda x: split_backslash(x))\n",
    "df = df.loc[df['investor_permalink']=='organization'] # change to person!!!!!!!\n",
    "\n",
    "# from 20179 to 17617 for raised_amount_usd\n",
    "df = df.loc[df[\"raised_amount_usd\"].notnull()]\n",
    "df['raised_amount_usd'] = df['raised_amount_usd'].apply(lambda x: \"\".join(x.split(\",\")).strip())\n",
    "df.loc[df.raised_amount_usd == '-', 'raised_amount_usd'] = None\n",
    "\n",
    "df['raised_amount_usd'] = df['raised_amount_usd'].map(lambda x: float(x) if x is not None else x)\n",
    "\n",
    "# all present for funding_round_type\n",
    "df = df.loc[df[\"funding_round_type\"].notnull()]\n",
    "# from 17617 to 16553 for company_country_code\n",
    "# df = df.loc[df[\"investor_country_code\"].notnull()]\n",
    "df = df.loc[df[\"company_market\"].notnull()]"
   ]
  },
  {
   "cell_type": "code",
   "execution_count": 77,
   "metadata": {
    "collapsed": false
   },
   "outputs": [
    {
     "data": {
      "text/plain": [
       "(13172, 24)"
      ]
     },
     "execution_count": 77,
     "metadata": {},
     "output_type": "execute_result"
    }
   ],
   "source": [
    "df.shape"
   ]
  },
  {
   "cell_type": "code",
   "execution_count": 78,
   "metadata": {
    "collapsed": false
   },
   "outputs": [
    {
     "data": {
      "text/plain": [
       "Index([u'company_permalink', u'company_name', u'company_category_list',\n",
       "       u'company_market', u'company_country_code', u'company_state_code',\n",
       "       u'company_region', u'company_city', u'investor_permalink',\n",
       "       u'investor_name', u'investor_category_list', u'investor_market',\n",
       "       u'investor_country_code', u'investor_state_code', u'investor_region',\n",
       "       u'investor_city', u'funding_round_permalink', u'funding_round_type',\n",
       "       u'funding_round_code', u'funded_at', u'funded_month', u'funded_quarter',\n",
       "       u'funded_year', u'raised_amount_usd'],\n",
       "      dtype='object')"
      ]
     },
     "execution_count": 78,
     "metadata": {},
     "output_type": "execute_result"
    }
   ],
   "source": [
    "df.columns"
   ]
  },
  {
   "cell_type": "code",
   "execution_count": 79,
   "metadata": {
    "collapsed": false
   },
   "outputs": [
    {
     "name": "stdout",
     "output_type": "stream",
     "text": [
      "(5389, 4)\n"
     ]
    },
    {
     "data": {
      "text/html": [
       "<div>\n",
       "<table border=\"1\" class=\"dataframe\">\n",
       "  <thead>\n",
       "    <tr style=\"text-align: right;\">\n",
       "      <th></th>\n",
       "      <th>company_name</th>\n",
       "      <th>company_market</th>\n",
       "      <th>company_country_code</th>\n",
       "      <th>raised_amount_usd</th>\n",
       "    </tr>\n",
       "  </thead>\n",
       "  <tbody>\n",
       "    <tr>\n",
       "      <th>0</th>\n",
       "      <td>0xdata</td>\n",
       "      <td>Analytics</td>\n",
       "      <td>USA</td>\n",
       "      <td>1700000</td>\n",
       "    </tr>\n",
       "    <tr>\n",
       "      <th>1</th>\n",
       "      <td>1,2,3 Listo</td>\n",
       "      <td>E-Commerce</td>\n",
       "      <td>CHL</td>\n",
       "      <td>40000</td>\n",
       "    </tr>\n",
       "    <tr>\n",
       "      <th>2</th>\n",
       "      <td>1000museums.com</td>\n",
       "      <td>Curated Web</td>\n",
       "      <td>USA</td>\n",
       "      <td>1295758</td>\n",
       "    </tr>\n",
       "    <tr>\n",
       "      <th>3</th>\n",
       "      <td>1001 Menus</td>\n",
       "      <td>Restaurants</td>\n",
       "      <td>FRA</td>\n",
       "      <td>3536910</td>\n",
       "    </tr>\n",
       "    <tr>\n",
       "      <th>4</th>\n",
       "      <td>121nexus</td>\n",
       "      <td>Pharmaceuticals</td>\n",
       "      <td>USA</td>\n",
       "      <td>695000</td>\n",
       "    </tr>\n",
       "  </tbody>\n",
       "</table>\n",
       "</div>"
      ],
      "text/plain": [
       "      company_name   company_market company_country_code  raised_amount_usd\n",
       "0           0xdata        Analytics                  USA            1700000\n",
       "1      1,2,3 Listo       E-Commerce                  CHL              40000\n",
       "2  1000museums.com      Curated Web                  USA            1295758\n",
       "3       1001 Menus      Restaurants                  FRA            3536910\n",
       "4         121nexus  Pharmaceuticals                  USA             695000"
      ]
     },
     "execution_count": 79,
     "metadata": {},
     "output_type": "execute_result"
    }
   ],
   "source": [
    "subset_df = df[[\"company_permalink\",\"company_name\",\"company_market\",\"company_country_code\",\"raised_amount_usd\"]]\n",
    "# grouped = subset_df.groupby(['investor_name', 'investor_market'])\n",
    "agg_df = subset_df.groupby(['company_name','company_market',\"company_country_code\"]).sum().reset_index()\n",
    "print(agg_df.shape)\n",
    "agg_df.head()"
   ]
  },
  {
   "cell_type": "code",
   "execution_count": 80,
   "metadata": {
    "collapsed": false
   },
   "outputs": [
    {
     "data": {
      "text/html": [
       "<div>\n",
       "<table border=\"1\" class=\"dataframe\">\n",
       "  <thead>\n",
       "    <tr style=\"text-align: right;\">\n",
       "      <th></th>\n",
       "      <th>index</th>\n",
       "      <th>company_name</th>\n",
       "      <th>company_market</th>\n",
       "      <th>company_country_code</th>\n",
       "      <th>raised_amount_usd</th>\n",
       "    </tr>\n",
       "  </thead>\n",
       "  <tbody>\n",
       "    <tr>\n",
       "      <th>2694</th>\n",
       "      <td>4010</td>\n",
       "      <td>SkillSonics India</td>\n",
       "      <td>Education</td>\n",
       "      <td>IND</td>\n",
       "      <td>4000000</td>\n",
       "    </tr>\n",
       "    <tr>\n",
       "      <th>2695</th>\n",
       "      <td>2855</td>\n",
       "      <td>MyPermissions</td>\n",
       "      <td>Security</td>\n",
       "      <td>ISR</td>\n",
       "      <td>4000000</td>\n",
       "    </tr>\n",
       "    <tr>\n",
       "      <th>2696</th>\n",
       "      <td>138</td>\n",
       "      <td>Adly</td>\n",
       "      <td>Social Media</td>\n",
       "      <td>USA</td>\n",
       "      <td>4000000</td>\n",
       "    </tr>\n",
       "    <tr>\n",
       "      <th>2697</th>\n",
       "      <td>2865</td>\n",
       "      <td>NASOFORM</td>\n",
       "      <td>Biotechnology</td>\n",
       "      <td>USA</td>\n",
       "      <td>4000000</td>\n",
       "    </tr>\n",
       "    <tr>\n",
       "      <th>2698</th>\n",
       "      <td>5079</td>\n",
       "      <td>Zemanta</td>\n",
       "      <td>Blogging Platforms</td>\n",
       "      <td>USA</td>\n",
       "      <td>4000000</td>\n",
       "    </tr>\n",
       "  </tbody>\n",
       "</table>\n",
       "</div>"
      ],
      "text/plain": [
       "      index       company_name      company_market company_country_code  \\\n",
       "2694   4010  SkillSonics India           Education                  IND   \n",
       "2695   2855      MyPermissions            Security                  ISR   \n",
       "2696    138               Adly        Social Media                  USA   \n",
       "2697   2865           NASOFORM       Biotechnology                  USA   \n",
       "2698   5079            Zemanta  Blogging Platforms                  USA   \n",
       "\n",
       "      raised_amount_usd  \n",
       "2694            4000000  \n",
       "2695            4000000  \n",
       "2696            4000000  \n",
       "2697            4000000  \n",
       "2698            4000000  "
      ]
     },
     "execution_count": 80,
     "metadata": {},
     "output_type": "execute_result"
    }
   ],
   "source": [
    "agg_df = agg_df.sort(['raised_amount_usd'], ascending=[1]).reset_index()\n",
    "agg_df = agg_df[agg_df.shape[0]/2:agg_df.shape[0]]\n",
    "agg_df.head()"
   ]
  },
  {
   "cell_type": "code",
   "execution_count": 81,
   "metadata": {
    "collapsed": true
   },
   "outputs": [],
   "source": [
    "agg_df.to_csv(\"aggregated-startups-top50percent.csv\", index=False)"
   ]
  },
  {
   "cell_type": "code",
   "execution_count": 8,
   "metadata": {
    "collapsed": false
   },
   "outputs": [],
   "source": [
    "# top_ten = agg_df[agg_df[\"investor_market\"].isin([\"Biotechnology\",\"Software\",\"Clean Technology\",\"Mobile\",\"Healthcare\",\"E-commerce\",\"Enterprise Software\",\"Finance\", \"Hardware + Software\", \"Advertising\"])]"
   ]
  },
  {
   "cell_type": "code",
   "execution_count": 28,
   "metadata": {
    "collapsed": false
   },
   "outputs": [
    {
     "data": {
      "text/plain": [
       "(254, 4)"
      ]
     },
     "execution_count": 28,
     "metadata": {},
     "output_type": "execute_result"
    }
   ],
   "source": [
    "# top_ten.shape"
   ]
  },
  {
   "cell_type": "code",
   "execution_count": 29,
   "metadata": {
    "collapsed": true
   },
   "outputs": [],
   "source": [
    "# top_ten.to_csv(\"top-ten-investors.csv\", index=False)"
   ]
  },
  {
   "cell_type": "code",
   "execution_count": null,
   "metadata": {
    "collapsed": true
   },
   "outputs": [],
   "source": []
  }
 ],
 "metadata": {
  "kernelspec": {
   "display_name": "Python 2",
   "language": "python",
   "name": "python2"
  },
  "language_info": {
   "codemirror_mode": {
    "name": "ipython",
    "version": 2
   },
   "file_extension": ".py",
   "mimetype": "text/x-python",
   "name": "python",
   "nbconvert_exporter": "python",
   "pygments_lexer": "ipython2",
   "version": "2.7.10"
  }
 },
 "nbformat": 4,
 "nbformat_minor": 0
}
