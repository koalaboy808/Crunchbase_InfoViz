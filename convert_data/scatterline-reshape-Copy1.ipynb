{
 "cells": [
  {
   "cell_type": "code",
   "execution_count": 1,
   "metadata": {
    "collapsed": false
   },
   "outputs": [],
   "source": [
    "import pandas as pd\n",
    "\n",
    "\n",
    "# df['raised_amount_usd'] = df['raised_amount_usd'].apply(lambda x: (\"\".join(x.split(\",\"))).strip())\n",
    "# df.loc[df.funding_total_usd == '-', 'raised_amount_usd'] = None\n",
    "# df['raised_amount_usd'] = df['raised_amount_usd'].map(lambda x: float(x) if x is not None else x)\n"
   ]
  },
  {
   "cell_type": "code",
   "execution_count": 2,
   "metadata": {
    "collapsed": true
   },
   "outputs": [],
   "source": [
    "def split_backslash(x):\n",
    "    try:\n",
    "        return str(x).split(\"/\")[1].strip()\n",
    "    except:\n",
    "        return x"
   ]
  },
  {
   "cell_type": "code",
   "execution_count": 3,
   "metadata": {
    "collapsed": false
   },
   "outputs": [],
   "source": [
    "raw_unicorns = pd.read_csv(\"scrapunicrons_2016/unicorns.csv\",header=None)\n",
    "list_unicorns = list(raw_unicorns[0])\n",
    "list_unicorns_lower = [x.lower().replace(\" \", \"\") for x in list_unicorns]"
   ]
  },
  {
   "cell_type": "code",
   "execution_count": 4,
   "metadata": {
    "collapsed": false
   },
   "outputs": [
    {
     "name": "stderr",
     "output_type": "stream",
     "text": [
      "/Users/carlo_liquido/anaconda/envs/python2/lib/python2.7/site-packages/pandas/io/parsers.py:1170: DtypeWarning: Columns (10,11,12,13,14,15) have mixed types. Specify dtype option on import or set low_memory=False.\n",
      "  data = self._reader.read(nrows)\n"
     ]
    }
   ],
   "source": [
    "df = pd.read_csv(\"../raw_data_crunchbase/crunchbase-investments.csv\")\n",
    "# df = df[df['funded_year']==2013]\n",
    "df['investor_permalink'] = df['investor_permalink'].apply(lambda x: split_backslash(x))\n",
    "df = df.loc[df['investor_permalink']=='organization'] # change to person!!!!!!!\n",
    "\n",
    "# from 20179 to 17617 for raised_amount_usd\n",
    "df = df.loc[df[\"raised_amount_usd\"].notnull()]\n",
    "df['raised_amount_usd'] = df['raised_amount_usd'].apply(lambda x: \"\".join(x.split(\",\")).strip())\n",
    "df.loc[df.raised_amount_usd == '-', 'raised_amount_usd'] = None\n",
    "\n",
    "df['raised_amount_usd'] = df['raised_amount_usd'].map(lambda x: float(x) if x is not None else x)\n",
    "\n",
    "# # all present for funding_round_type\n",
    "df = df.loc[df[\"funded_quarter\"].notnull()]\n",
    "\n",
    "# df = df.loc[df[\"investor_country_code\"].notnull()]\n",
    "df = df.loc[df[\"company_market\"].notnull()]"
   ]
  },
  {
   "cell_type": "code",
   "execution_count": 5,
   "metadata": {
    "collapsed": false
   },
   "outputs": [
    {
     "data": {
      "text/plain": [
       "(76537, 24)"
      ]
     },
     "execution_count": 5,
     "metadata": {},
     "output_type": "execute_result"
    }
   ],
   "source": [
    "df.shape"
   ]
  },
  {
   "cell_type": "code",
   "execution_count": 6,
   "metadata": {
    "collapsed": false
   },
   "outputs": [
    {
     "data": {
      "text/plain": [
       "Index([u'company_permalink', u'company_name', u'company_category_list',\n",
       "       u'company_market', u'company_country_code', u'company_state_code',\n",
       "       u'company_region', u'company_city', u'investor_permalink',\n",
       "       u'investor_name', u'investor_category_list', u'investor_market',\n",
       "       u'investor_country_code', u'investor_state_code', u'investor_region',\n",
       "       u'investor_city', u'funding_round_permalink', u'funding_round_type',\n",
       "       u'funding_round_code', u'funded_at', u'funded_month', u'funded_quarter',\n",
       "       u'funded_year', u'raised_amount_usd'],\n",
       "      dtype='object')"
      ]
     },
     "execution_count": 6,
     "metadata": {},
     "output_type": "execute_result"
    }
   ],
   "source": [
    "df.columns"
   ]
  },
  {
   "cell_type": "code",
   "execution_count": 7,
   "metadata": {
    "collapsed": true
   },
   "outputs": [],
   "source": [
    "subset_df = df[[\"company_name\", \"company_country_code\", \"company_city\", \"company_market\",\n",
    "                \"investor_name\",\"investor_country_code\",\"investor_city\",\n",
    "                \"funded_at\",\"funded_month\",\"funded_year\",\"funded_quarter\",\"raised_amount_usd\"]]"
   ]
  },
  {
   "cell_type": "code",
   "execution_count": 8,
   "metadata": {
    "collapsed": true
   },
   "outputs": [],
   "source": [
    "years_wanted = [2004,2005,2006,2007,2008,2009,2010,2011,2012,2013]"
   ]
  },
  {
   "cell_type": "code",
   "execution_count": 9,
   "metadata": {
    "collapsed": false
   },
   "outputs": [],
   "source": [
    "subset_df = subset_df.loc[subset_df['funded_year'].isin(years_wanted)]\n",
    "# subset_df = subset_df[subset_df['funded_year']>=2004 and subset_df['funded_year']>=2013]"
   ]
  },
  {
   "cell_type": "code",
   "execution_count": 10,
   "metadata": {
    "collapsed": false
   },
   "outputs": [
    {
     "data": {
      "text/html": [
       "<div>\n",
       "<table border=\"1\" class=\"dataframe\">\n",
       "  <thead>\n",
       "    <tr style=\"text-align: right;\">\n",
       "      <th></th>\n",
       "      <th>company_name</th>\n",
       "      <th>company_country_code</th>\n",
       "      <th>company_city</th>\n",
       "      <th>company_market</th>\n",
       "      <th>investor_name</th>\n",
       "      <th>investor_country_code</th>\n",
       "      <th>investor_city</th>\n",
       "      <th>funded_at</th>\n",
       "      <th>funded_month</th>\n",
       "      <th>funded_year</th>\n",
       "      <th>funded_quarter</th>\n",
       "      <th>raised_amount_usd</th>\n",
       "    </tr>\n",
       "  </thead>\n",
       "  <tbody>\n",
       "    <tr>\n",
       "      <th>13</th>\n",
       "      <td>AbilTo</td>\n",
       "      <td>USA</td>\n",
       "      <td>New York</td>\n",
       "      <td>Health and Wellness</td>\n",
       "      <td>.406 Ventures</td>\n",
       "      <td>USA</td>\n",
       "      <td>Boston</td>\n",
       "      <td>05/14/2013 00:00</td>\n",
       "      <td>2013-05</td>\n",
       "      <td>2013</td>\n",
       "      <td>2013-Q2</td>\n",
       "      <td>3000000</td>\n",
       "    </tr>\n",
       "    <tr>\n",
       "      <th>14</th>\n",
       "      <td>Ambient Devices</td>\n",
       "      <td>NaN</td>\n",
       "      <td>NaN</td>\n",
       "      <td>Mobile</td>\n",
       "      <td>.406 Ventures</td>\n",
       "      <td>USA</td>\n",
       "      <td>Boston</td>\n",
       "      <td>09/16/2008 00:00</td>\n",
       "      <td>2008-09</td>\n",
       "      <td>2008</td>\n",
       "      <td>2008-Q3</td>\n",
       "      <td>5000000</td>\n",
       "    </tr>\n",
       "    <tr>\n",
       "      <th>15</th>\n",
       "      <td>Urban Compass</td>\n",
       "      <td>USA</td>\n",
       "      <td>New York</td>\n",
       "      <td>Local</td>\n",
       "      <td>.406 Ventures</td>\n",
       "      <td>USA</td>\n",
       "      <td>Boston</td>\n",
       "      <td>12/17/2012 00:00</td>\n",
       "      <td>2012-12</td>\n",
       "      <td>2012</td>\n",
       "      <td>2012-Q4</td>\n",
       "      <td>8000000</td>\n",
       "    </tr>\n",
       "    <tr>\n",
       "      <th>16</th>\n",
       "      <td>MineralTree</td>\n",
       "      <td>USA</td>\n",
       "      <td>Cambridge</td>\n",
       "      <td>Analytics</td>\n",
       "      <td>.406 Ventures</td>\n",
       "      <td>USA</td>\n",
       "      <td>Boston</td>\n",
       "      <td>06/27/2012 00:00</td>\n",
       "      <td>2012-06</td>\n",
       "      <td>2012</td>\n",
       "      <td>2012-Q2</td>\n",
       "      <td>6300000</td>\n",
       "    </tr>\n",
       "    <tr>\n",
       "      <th>17</th>\n",
       "      <td>Connotate</td>\n",
       "      <td>USA</td>\n",
       "      <td>New Brunswick</td>\n",
       "      <td>Analytics</td>\n",
       "      <td>.406 Ventures</td>\n",
       "      <td>USA</td>\n",
       "      <td>Boston</td>\n",
       "      <td>04/12/2012 00:00</td>\n",
       "      <td>2012-04</td>\n",
       "      <td>2012</td>\n",
       "      <td>2012-Q2</td>\n",
       "      <td>7000000</td>\n",
       "    </tr>\n",
       "  </tbody>\n",
       "</table>\n",
       "</div>"
      ],
      "text/plain": [
       "       company_name company_country_code   company_city       company_market  \\\n",
       "13           AbilTo                  USA       New York  Health and Wellness   \n",
       "14  Ambient Devices                  NaN            NaN               Mobile   \n",
       "15    Urban Compass                  USA       New York                Local   \n",
       "16      MineralTree                  USA      Cambridge            Analytics   \n",
       "17        Connotate                  USA  New Brunswick            Analytics   \n",
       "\n",
       "    investor_name investor_country_code investor_city         funded_at  \\\n",
       "13  .406 Ventures                   USA        Boston  05/14/2013 00:00   \n",
       "14  .406 Ventures                   USA        Boston  09/16/2008 00:00   \n",
       "15  .406 Ventures                   USA        Boston  12/17/2012 00:00   \n",
       "16  .406 Ventures                   USA        Boston  06/27/2012 00:00   \n",
       "17  .406 Ventures                   USA        Boston  04/12/2012 00:00   \n",
       "\n",
       "   funded_month  funded_year funded_quarter  raised_amount_usd  \n",
       "13      2013-05         2013        2013-Q2            3000000  \n",
       "14      2008-09         2008        2008-Q3            5000000  \n",
       "15      2012-12         2012        2012-Q4            8000000  \n",
       "16      2012-06         2012        2012-Q2            6300000  \n",
       "17      2012-04         2012        2012-Q2            7000000  "
      ]
     },
     "execution_count": 10,
     "metadata": {},
     "output_type": "execute_result"
    }
   ],
   "source": [
    "subset_df.head()"
   ]
  },
  {
   "cell_type": "code",
   "execution_count": 11,
   "metadata": {
    "collapsed": true
   },
   "outputs": [],
   "source": [
    "# subset_df.to_csv(\"aggregated-investments-maptime.csv\", index=False)"
   ]
  },
  {
   "cell_type": "code",
   "execution_count": 12,
   "metadata": {
    "collapsed": true
   },
   "outputs": [],
   "source": [
    "add_unicorns = subset_df.copy()"
   ]
  },
  {
   "cell_type": "code",
   "execution_count": 13,
   "metadata": {
    "collapsed": false
   },
   "outputs": [
    {
     "data": {
      "text/plain": [
       "(66077, 12)"
      ]
     },
     "execution_count": 13,
     "metadata": {},
     "output_type": "execute_result"
    }
   ],
   "source": [
    "add_unicorns.shape"
   ]
  },
  {
   "cell_type": "code",
   "execution_count": 14,
   "metadata": {
    "collapsed": false
   },
   "outputs": [],
   "source": [
    "add_unicorns['company_name_lower'] = add_unicorns['company_name'].apply(lambda x: str(x).lower().replace(\" \", \"\"))"
   ]
  },
  {
   "cell_type": "code",
   "execution_count": 15,
   "metadata": {
    "collapsed": false
   },
   "outputs": [
    {
     "data": {
      "text/html": [
       "<div>\n",
       "<table border=\"1\" class=\"dataframe\">\n",
       "  <thead>\n",
       "    <tr style=\"text-align: right;\">\n",
       "      <th></th>\n",
       "      <th>company_name</th>\n",
       "      <th>company_country_code</th>\n",
       "      <th>company_city</th>\n",
       "      <th>company_market</th>\n",
       "      <th>investor_name</th>\n",
       "      <th>investor_country_code</th>\n",
       "      <th>investor_city</th>\n",
       "      <th>funded_at</th>\n",
       "      <th>funded_month</th>\n",
       "      <th>funded_year</th>\n",
       "      <th>funded_quarter</th>\n",
       "      <th>raised_amount_usd</th>\n",
       "      <th>company_name_lower</th>\n",
       "    </tr>\n",
       "  </thead>\n",
       "  <tbody>\n",
       "    <tr>\n",
       "      <th>13</th>\n",
       "      <td>AbilTo</td>\n",
       "      <td>USA</td>\n",
       "      <td>New York</td>\n",
       "      <td>Health and Wellness</td>\n",
       "      <td>.406 Ventures</td>\n",
       "      <td>USA</td>\n",
       "      <td>Boston</td>\n",
       "      <td>05/14/2013 00:00</td>\n",
       "      <td>2013-05</td>\n",
       "      <td>2013</td>\n",
       "      <td>2013-Q2</td>\n",
       "      <td>3000000</td>\n",
       "      <td>abilto</td>\n",
       "    </tr>\n",
       "    <tr>\n",
       "      <th>14</th>\n",
       "      <td>Ambient Devices</td>\n",
       "      <td>NaN</td>\n",
       "      <td>NaN</td>\n",
       "      <td>Mobile</td>\n",
       "      <td>.406 Ventures</td>\n",
       "      <td>USA</td>\n",
       "      <td>Boston</td>\n",
       "      <td>09/16/2008 00:00</td>\n",
       "      <td>2008-09</td>\n",
       "      <td>2008</td>\n",
       "      <td>2008-Q3</td>\n",
       "      <td>5000000</td>\n",
       "      <td>ambientdevices</td>\n",
       "    </tr>\n",
       "    <tr>\n",
       "      <th>15</th>\n",
       "      <td>Urban Compass</td>\n",
       "      <td>USA</td>\n",
       "      <td>New York</td>\n",
       "      <td>Local</td>\n",
       "      <td>.406 Ventures</td>\n",
       "      <td>USA</td>\n",
       "      <td>Boston</td>\n",
       "      <td>12/17/2012 00:00</td>\n",
       "      <td>2012-12</td>\n",
       "      <td>2012</td>\n",
       "      <td>2012-Q4</td>\n",
       "      <td>8000000</td>\n",
       "      <td>urbancompass</td>\n",
       "    </tr>\n",
       "    <tr>\n",
       "      <th>16</th>\n",
       "      <td>MineralTree</td>\n",
       "      <td>USA</td>\n",
       "      <td>Cambridge</td>\n",
       "      <td>Analytics</td>\n",
       "      <td>.406 Ventures</td>\n",
       "      <td>USA</td>\n",
       "      <td>Boston</td>\n",
       "      <td>06/27/2012 00:00</td>\n",
       "      <td>2012-06</td>\n",
       "      <td>2012</td>\n",
       "      <td>2012-Q2</td>\n",
       "      <td>6300000</td>\n",
       "      <td>mineraltree</td>\n",
       "    </tr>\n",
       "    <tr>\n",
       "      <th>17</th>\n",
       "      <td>Connotate</td>\n",
       "      <td>USA</td>\n",
       "      <td>New Brunswick</td>\n",
       "      <td>Analytics</td>\n",
       "      <td>.406 Ventures</td>\n",
       "      <td>USA</td>\n",
       "      <td>Boston</td>\n",
       "      <td>04/12/2012 00:00</td>\n",
       "      <td>2012-04</td>\n",
       "      <td>2012</td>\n",
       "      <td>2012-Q2</td>\n",
       "      <td>7000000</td>\n",
       "      <td>connotate</td>\n",
       "    </tr>\n",
       "  </tbody>\n",
       "</table>\n",
       "</div>"
      ],
      "text/plain": [
       "       company_name company_country_code   company_city       company_market  \\\n",
       "13           AbilTo                  USA       New York  Health and Wellness   \n",
       "14  Ambient Devices                  NaN            NaN               Mobile   \n",
       "15    Urban Compass                  USA       New York                Local   \n",
       "16      MineralTree                  USA      Cambridge            Analytics   \n",
       "17        Connotate                  USA  New Brunswick            Analytics   \n",
       "\n",
       "    investor_name investor_country_code investor_city         funded_at  \\\n",
       "13  .406 Ventures                   USA        Boston  05/14/2013 00:00   \n",
       "14  .406 Ventures                   USA        Boston  09/16/2008 00:00   \n",
       "15  .406 Ventures                   USA        Boston  12/17/2012 00:00   \n",
       "16  .406 Ventures                   USA        Boston  06/27/2012 00:00   \n",
       "17  .406 Ventures                   USA        Boston  04/12/2012 00:00   \n",
       "\n",
       "   funded_month  funded_year funded_quarter  raised_amount_usd  \\\n",
       "13      2013-05         2013        2013-Q2            3000000   \n",
       "14      2008-09         2008        2008-Q3            5000000   \n",
       "15      2012-12         2012        2012-Q4            8000000   \n",
       "16      2012-06         2012        2012-Q2            6300000   \n",
       "17      2012-04         2012        2012-Q2            7000000   \n",
       "\n",
       "   company_name_lower  \n",
       "13             abilto  \n",
       "14     ambientdevices  \n",
       "15       urbancompass  \n",
       "16        mineraltree  \n",
       "17          connotate  "
      ]
     },
     "execution_count": 15,
     "metadata": {},
     "output_type": "execute_result"
    }
   ],
   "source": [
    "add_unicorns.head()"
   ]
  },
  {
   "cell_type": "code",
   "execution_count": 16,
   "metadata": {
    "collapsed": false
   },
   "outputs": [],
   "source": [
    "add_unicorns['unicorn_flag'] = add_unicorns['company_name_lower'].apply(lambda x: x in list_unicorns_lower)"
   ]
  },
  {
   "cell_type": "code",
   "execution_count": 17,
   "metadata": {
    "collapsed": false
   },
   "outputs": [],
   "source": [
    "# unicorns_df = add_unicorns[add_unicorns['unicorn_flag']==True]"
   ]
  },
  {
   "cell_type": "code",
   "execution_count": 18,
   "metadata": {
    "collapsed": false
   },
   "outputs": [],
   "source": [
    "top15 = [\"Biotechnology\", \"Software\", \"Clean Technology\", \"Health Care\", \"E-Commerce\", \"Mobile\", \"Semiconductors\", \"Enterprise Software\", \"Advertising\", \"Hardware + Software\", \"Web Hosting\", \"Games\", \"Finance\", \"Curated Web\", \"Security\"]"
   ]
  },
  {
   "cell_type": "code",
   "execution_count": 19,
   "metadata": {
    "collapsed": false
   },
   "outputs": [],
   "source": [
    "# unicorns_top25 = add_unicorns[add_unicorns[\"company_market\"].isin(top25)]"
   ]
  },
  {
   "cell_type": "code",
   "execution_count": 20,
   "metadata": {
    "collapsed": false
   },
   "outputs": [],
   "source": [
    "# unicorns_top25.to_csv(\"top25-investments-unicorns.csv\")"
   ]
  },
  {
   "cell_type": "code",
   "execution_count": 21,
   "metadata": {
    "collapsed": false
   },
   "outputs": [
    {
     "data": {
      "text/html": [
       "<div>\n",
       "<table border=\"1\" class=\"dataframe\">\n",
       "  <thead>\n",
       "    <tr style=\"text-align: right;\">\n",
       "      <th></th>\n",
       "      <th>company_name</th>\n",
       "      <th>company_country_code</th>\n",
       "      <th>company_city</th>\n",
       "      <th>company_market</th>\n",
       "      <th>investor_name</th>\n",
       "      <th>investor_country_code</th>\n",
       "      <th>investor_city</th>\n",
       "      <th>funded_at</th>\n",
       "      <th>funded_month</th>\n",
       "      <th>funded_year</th>\n",
       "      <th>funded_quarter</th>\n",
       "      <th>raised_amount_usd</th>\n",
       "      <th>company_name_lower</th>\n",
       "      <th>unicorn_flag</th>\n",
       "    </tr>\n",
       "  </thead>\n",
       "  <tbody>\n",
       "    <tr>\n",
       "      <th>14</th>\n",
       "      <td>Ambient Devices</td>\n",
       "      <td>NaN</td>\n",
       "      <td>NaN</td>\n",
       "      <td>Mobile</td>\n",
       "      <td>.406 Ventures</td>\n",
       "      <td>USA</td>\n",
       "      <td>Boston</td>\n",
       "      <td>09/16/2008 00:00</td>\n",
       "      <td>2008-09</td>\n",
       "      <td>2008</td>\n",
       "      <td>2008-Q3</td>\n",
       "      <td>5000000</td>\n",
       "      <td>ambientdevices</td>\n",
       "      <td>False</td>\n",
       "    </tr>\n",
       "    <tr>\n",
       "      <th>18</th>\n",
       "      <td>Bit9</td>\n",
       "      <td>USA</td>\n",
       "      <td>Waltham</td>\n",
       "      <td>Security</td>\n",
       "      <td>.406 Ventures</td>\n",
       "      <td>USA</td>\n",
       "      <td>Boston</td>\n",
       "      <td>10/27/2007 00:00</td>\n",
       "      <td>2007-10</td>\n",
       "      <td>2007</td>\n",
       "      <td>2007-Q4</td>\n",
       "      <td>10000000</td>\n",
       "      <td>bit9</td>\n",
       "      <td>False</td>\n",
       "    </tr>\n",
       "    <tr>\n",
       "      <th>19</th>\n",
       "      <td>CloudHealth Technologies</td>\n",
       "      <td>USA</td>\n",
       "      <td>Boston</td>\n",
       "      <td>Software</td>\n",
       "      <td>.406 Ventures</td>\n",
       "      <td>USA</td>\n",
       "      <td>Boston</td>\n",
       "      <td>03/12/2013 00:00</td>\n",
       "      <td>2013-03</td>\n",
       "      <td>2013</td>\n",
       "      <td>2013-Q1</td>\n",
       "      <td>4500000</td>\n",
       "      <td>cloudhealthtechnologies</td>\n",
       "      <td>False</td>\n",
       "    </tr>\n",
       "    <tr>\n",
       "      <th>22</th>\n",
       "      <td>woodpellets.com</td>\n",
       "      <td>USA</td>\n",
       "      <td>Goffstown</td>\n",
       "      <td>Clean Technology</td>\n",
       "      <td>.406 Ventures</td>\n",
       "      <td>USA</td>\n",
       "      <td>Boston</td>\n",
       "      <td>08/31/2009 00:00</td>\n",
       "      <td>2009-08</td>\n",
       "      <td>2009</td>\n",
       "      <td>2009-Q3</td>\n",
       "      <td>11000000</td>\n",
       "      <td>woodpellets.com</td>\n",
       "      <td>False</td>\n",
       "    </tr>\n",
       "    <tr>\n",
       "      <th>23</th>\n",
       "      <td>woodpellets.com</td>\n",
       "      <td>USA</td>\n",
       "      <td>Goffstown</td>\n",
       "      <td>Clean Technology</td>\n",
       "      <td>.406 Ventures</td>\n",
       "      <td>USA</td>\n",
       "      <td>Boston</td>\n",
       "      <td>06/03/2008 00:00</td>\n",
       "      <td>2008-06</td>\n",
       "      <td>2008</td>\n",
       "      <td>2008-Q2</td>\n",
       "      <td>4000000</td>\n",
       "      <td>woodpellets.com</td>\n",
       "      <td>False</td>\n",
       "    </tr>\n",
       "  </tbody>\n",
       "</table>\n",
       "</div>"
      ],
      "text/plain": [
       "                company_name company_country_code company_city  \\\n",
       "14           Ambient Devices                  NaN          NaN   \n",
       "18                      Bit9                  USA      Waltham   \n",
       "19  CloudHealth Technologies                  USA       Boston   \n",
       "22           woodpellets.com                  USA    Goffstown   \n",
       "23           woodpellets.com                  USA    Goffstown   \n",
       "\n",
       "      company_market  investor_name investor_country_code investor_city  \\\n",
       "14            Mobile  .406 Ventures                   USA        Boston   \n",
       "18          Security  .406 Ventures                   USA        Boston   \n",
       "19          Software  .406 Ventures                   USA        Boston   \n",
       "22  Clean Technology  .406 Ventures                   USA        Boston   \n",
       "23  Clean Technology  .406 Ventures                   USA        Boston   \n",
       "\n",
       "           funded_at funded_month  funded_year funded_quarter  \\\n",
       "14  09/16/2008 00:00      2008-09         2008        2008-Q3   \n",
       "18  10/27/2007 00:00      2007-10         2007        2007-Q4   \n",
       "19  03/12/2013 00:00      2013-03         2013        2013-Q1   \n",
       "22  08/31/2009 00:00      2009-08         2009        2009-Q3   \n",
       "23  06/03/2008 00:00      2008-06         2008        2008-Q2   \n",
       "\n",
       "    raised_amount_usd       company_name_lower unicorn_flag  \n",
       "14            5000000           ambientdevices        False  \n",
       "18           10000000                     bit9        False  \n",
       "19            4500000  cloudhealthtechnologies        False  \n",
       "22           11000000          woodpellets.com        False  \n",
       "23            4000000          woodpellets.com        False  "
      ]
     },
     "execution_count": 21,
     "metadata": {},
     "output_type": "execute_result"
    }
   ],
   "source": [
    "add_unicorns = add_unicorns[add_unicorns[\"company_market\"].isin(top15)]\n",
    "add_unicorns.head()"
   ]
  },
  {
   "cell_type": "code",
   "execution_count": 22,
   "metadata": {
    "collapsed": false
   },
   "outputs": [],
   "source": [
    "reshape_unicorns = (add_unicorns.groupby(['company_market','funded_quarter']).median().reset_index())[[\"company_market\",\"funded_quarter\",\"raised_amount_usd\"]]"
   ]
  },
  {
   "cell_type": "code",
   "execution_count": 23,
   "metadata": {
    "collapsed": true
   },
   "outputs": [],
   "source": [
    "count_unicorns = (add_unicorns.groupby(['company_market','funded_quarter']).count().reset_index())[[\"company_market\",\"funded_quarter\",\"raised_amount_usd\"]]"
   ]
  },
  {
   "cell_type": "code",
   "execution_count": 24,
   "metadata": {
    "collapsed": false
   },
   "outputs": [],
   "source": [
    "# count_unicorns[count_unicorns[\"company_market\"]==\"Biotechnology\"]\n",
    "# reshape_unicorns.head()\n",
    "combined_market = reshape_unicorns.merge(count_unicorns, left_on=['company_market','funded_quarter'], right_on=['company_market','funded_quarter'])"
   ]
  },
  {
   "cell_type": "code",
   "execution_count": 25,
   "metadata": {
    "collapsed": false
   },
   "outputs": [],
   "source": [
    "combined_market=combined_market.rename(columns = {'raised_amount_usd_x':'funding','raised_amount_usd_y':'startup'})"
   ]
  },
  {
   "cell_type": "code",
   "execution_count": 26,
   "metadata": {
    "collapsed": false
   },
   "outputs": [
    {
     "data": {
      "text/html": [
       "<div>\n",
       "<table border=\"1\" class=\"dataframe\">\n",
       "  <thead>\n",
       "    <tr style=\"text-align: right;\">\n",
       "      <th></th>\n",
       "      <th>company_market</th>\n",
       "      <th>funded_quarter</th>\n",
       "      <th>funding</th>\n",
       "      <th>startup</th>\n",
       "    </tr>\n",
       "  </thead>\n",
       "  <tbody>\n",
       "    <tr>\n",
       "      <th>0</th>\n",
       "      <td>Advertising</td>\n",
       "      <td>2004-Q1</td>\n",
       "      <td>250000</td>\n",
       "      <td>1</td>\n",
       "    </tr>\n",
       "    <tr>\n",
       "      <th>1</th>\n",
       "      <td>Advertising</td>\n",
       "      <td>2004-Q2</td>\n",
       "      <td>3000000</td>\n",
       "      <td>4</td>\n",
       "    </tr>\n",
       "    <tr>\n",
       "      <th>2</th>\n",
       "      <td>Advertising</td>\n",
       "      <td>2004-Q3</td>\n",
       "      <td>6250000</td>\n",
       "      <td>2</td>\n",
       "    </tr>\n",
       "    <tr>\n",
       "      <th>3</th>\n",
       "      <td>Advertising</td>\n",
       "      <td>2004-Q4</td>\n",
       "      <td>6000000</td>\n",
       "      <td>5</td>\n",
       "    </tr>\n",
       "    <tr>\n",
       "      <th>4</th>\n",
       "      <td>Advertising</td>\n",
       "      <td>2005-Q1</td>\n",
       "      <td>6000000</td>\n",
       "      <td>26</td>\n",
       "    </tr>\n",
       "  </tbody>\n",
       "</table>\n",
       "</div>"
      ],
      "text/plain": [
       "  company_market funded_quarter  funding  startup\n",
       "0    Advertising        2004-Q1   250000        1\n",
       "1    Advertising        2004-Q2  3000000        4\n",
       "2    Advertising        2004-Q3  6250000        2\n",
       "3    Advertising        2004-Q4  6000000        5\n",
       "4    Advertising        2005-Q1  6000000       26"
      ]
     },
     "execution_count": 26,
     "metadata": {},
     "output_type": "execute_result"
    }
   ],
   "source": [
    "combined_market.head()"
   ]
  },
  {
   "cell_type": "code",
   "execution_count": 27,
   "metadata": {
    "collapsed": false
   },
   "outputs": [],
   "source": [
    "combined_top15 = combined_market[combined_market[\"company_market\"].isin(top15)]"
   ]
  },
  {
   "cell_type": "code",
   "execution_count": 28,
   "metadata": {
    "collapsed": false
   },
   "outputs": [
    {
     "data": {
      "text/plain": [
       "(586, 4)"
      ]
     },
     "execution_count": 28,
     "metadata": {},
     "output_type": "execute_result"
    }
   ],
   "source": [
    "len(set(combined_top15.company_market))\n",
    "combined_top15.shape"
   ]
  },
  {
   "cell_type": "code",
   "execution_count": 29,
   "metadata": {
    "collapsed": false
   },
   "outputs": [],
   "source": [
    "all_unicorns_median = (add_unicorns.groupby(['funded_quarter']).median().reset_index())[[\"funded_quarter\",\"raised_amount_usd\"]]"
   ]
  },
  {
   "cell_type": "code",
   "execution_count": 30,
   "metadata": {
    "collapsed": false
   },
   "outputs": [],
   "source": [
    "all_unicorns_count = (add_unicorns.groupby(['funded_quarter']).count().reset_index())[[\"funded_quarter\",\"raised_amount_usd\"]]"
   ]
  },
  {
   "cell_type": "code",
   "execution_count": 39,
   "metadata": {
    "collapsed": false
   },
   "outputs": [
    {
     "data": {
      "text/html": [
       "<div>\n",
       "<table border=\"1\" class=\"dataframe\">\n",
       "  <thead>\n",
       "    <tr style=\"text-align: right;\">\n",
       "      <th></th>\n",
       "      <th>company_market</th>\n",
       "      <th>funded_quarter</th>\n",
       "      <th>funding</th>\n",
       "      <th>startup</th>\n",
       "    </tr>\n",
       "  </thead>\n",
       "  <tbody>\n",
       "    <tr>\n",
       "      <th>0</th>\n",
       "      <td>All</td>\n",
       "      <td>2004-Q1</td>\n",
       "      <td>11000000</td>\n",
       "      <td>94</td>\n",
       "    </tr>\n",
       "    <tr>\n",
       "      <th>1</th>\n",
       "      <td>All</td>\n",
       "      <td>2004-Q2</td>\n",
       "      <td>7000000</td>\n",
       "      <td>83</td>\n",
       "    </tr>\n",
       "    <tr>\n",
       "      <th>2</th>\n",
       "      <td>All</td>\n",
       "      <td>2004-Q3</td>\n",
       "      <td>10400000</td>\n",
       "      <td>79</td>\n",
       "    </tr>\n",
       "    <tr>\n",
       "      <th>3</th>\n",
       "      <td>All</td>\n",
       "      <td>2004-Q4</td>\n",
       "      <td>10000000</td>\n",
       "      <td>80</td>\n",
       "    </tr>\n",
       "    <tr>\n",
       "      <th>4</th>\n",
       "      <td>All</td>\n",
       "      <td>2005-Q1</td>\n",
       "      <td>8500000</td>\n",
       "      <td>798</td>\n",
       "    </tr>\n",
       "  </tbody>\n",
       "</table>\n",
       "</div>"
      ],
      "text/plain": [
       "  company_market funded_quarter   funding  startup\n",
       "0            All        2004-Q1  11000000       94\n",
       "1            All        2004-Q2   7000000       83\n",
       "2            All        2004-Q3  10400000       79\n",
       "3            All        2004-Q4  10000000       80\n",
       "4            All        2005-Q1   8500000      798"
      ]
     },
     "execution_count": 39,
     "metadata": {},
     "output_type": "execute_result"
    }
   ],
   "source": [
    "all_unicorns = all_unicorns_median.merge(all_unicorns_count, left_on=['funded_quarter'], right_on=['funded_quarter'])\n",
    "all_unicorns=all_unicorns.rename(columns = {'raised_amount_usd_x':'funding','raised_amount_usd_y':'startup'})\n",
    "all_unicorns.insert(0, \"company_market\", \"All\")\n",
    "all_unicorns.head()"
   ]
  },
  {
   "cell_type": "code",
   "execution_count": 40,
   "metadata": {
    "collapsed": false
   },
   "outputs": [
    {
     "data": {
      "text/plain": [
       "(626, 4)"
      ]
     },
     "execution_count": 40,
     "metadata": {},
     "output_type": "execute_result"
    }
   ],
   "source": [
    "combined_top15_Final = all_unicorns.append(combined_top15)\n",
    "combined_top15_Final.shape"
   ]
  },
  {
   "cell_type": "code",
   "execution_count": 44,
   "metadata": {
    "collapsed": true
   },
   "outputs": [],
   "source": [
    "combined_top15_Final.to_csv(\"top15-pandas-quarter.csv\", index=False)"
   ]
  },
  {
   "cell_type": "code",
   "execution_count": 43,
   "metadata": {
    "collapsed": false
   },
   "outputs": [
    {
     "data": {
      "text/html": [
       "<div>\n",
       "<table border=\"1\" class=\"dataframe\">\n",
       "  <thead>\n",
       "    <tr style=\"text-align: right;\">\n",
       "      <th></th>\n",
       "      <th>company_market</th>\n",
       "      <th>funded_quarter</th>\n",
       "      <th>funding</th>\n",
       "      <th>startup</th>\n",
       "    </tr>\n",
       "  </thead>\n",
       "  <tbody>\n",
       "    <tr>\n",
       "      <th>40</th>\n",
       "      <td>Biotechnology</td>\n",
       "      <td>2004-Q1</td>\n",
       "      <td>38000000</td>\n",
       "      <td>14</td>\n",
       "    </tr>\n",
       "    <tr>\n",
       "      <th>41</th>\n",
       "      <td>Biotechnology</td>\n",
       "      <td>2004-Q2</td>\n",
       "      <td>2327975</td>\n",
       "      <td>8</td>\n",
       "    </tr>\n",
       "    <tr>\n",
       "      <th>42</th>\n",
       "      <td>Biotechnology</td>\n",
       "      <td>2004-Q3</td>\n",
       "      <td>13500000</td>\n",
       "      <td>11</td>\n",
       "    </tr>\n",
       "    <tr>\n",
       "      <th>43</th>\n",
       "      <td>Biotechnology</td>\n",
       "      <td>2005-Q1</td>\n",
       "      <td>10000000</td>\n",
       "      <td>94</td>\n",
       "    </tr>\n",
       "    <tr>\n",
       "      <th>44</th>\n",
       "      <td>Biotechnology</td>\n",
       "      <td>2005-Q2</td>\n",
       "      <td>4206255</td>\n",
       "      <td>76</td>\n",
       "    </tr>\n",
       "    <tr>\n",
       "      <th>45</th>\n",
       "      <td>Biotechnology</td>\n",
       "      <td>2005-Q3</td>\n",
       "      <td>8990000</td>\n",
       "      <td>105</td>\n",
       "    </tr>\n",
       "    <tr>\n",
       "      <th>46</th>\n",
       "      <td>Biotechnology</td>\n",
       "      <td>2005-Q4</td>\n",
       "      <td>9540000</td>\n",
       "      <td>84</td>\n",
       "    </tr>\n",
       "    <tr>\n",
       "      <th>47</th>\n",
       "      <td>Biotechnology</td>\n",
       "      <td>2006-Q1</td>\n",
       "      <td>11800000</td>\n",
       "      <td>129</td>\n",
       "    </tr>\n",
       "    <tr>\n",
       "      <th>48</th>\n",
       "      <td>Biotechnology</td>\n",
       "      <td>2006-Q2</td>\n",
       "      <td>20000000</td>\n",
       "      <td>120</td>\n",
       "    </tr>\n",
       "    <tr>\n",
       "      <th>49</th>\n",
       "      <td>Biotechnology</td>\n",
       "      <td>2006-Q3</td>\n",
       "      <td>13960000</td>\n",
       "      <td>123</td>\n",
       "    </tr>\n",
       "    <tr>\n",
       "      <th>50</th>\n",
       "      <td>Biotechnology</td>\n",
       "      <td>2006-Q4</td>\n",
       "      <td>16000000</td>\n",
       "      <td>134</td>\n",
       "    </tr>\n",
       "    <tr>\n",
       "      <th>51</th>\n",
       "      <td>Biotechnology</td>\n",
       "      <td>2007-Q1</td>\n",
       "      <td>22600000</td>\n",
       "      <td>147</td>\n",
       "    </tr>\n",
       "    <tr>\n",
       "      <th>52</th>\n",
       "      <td>Biotechnology</td>\n",
       "      <td>2007-Q2</td>\n",
       "      <td>15000000</td>\n",
       "      <td>177</td>\n",
       "    </tr>\n",
       "    <tr>\n",
       "      <th>53</th>\n",
       "      <td>Biotechnology</td>\n",
       "      <td>2007-Q3</td>\n",
       "      <td>8800000</td>\n",
       "      <td>117</td>\n",
       "    </tr>\n",
       "    <tr>\n",
       "      <th>54</th>\n",
       "      <td>Biotechnology</td>\n",
       "      <td>2007-Q4</td>\n",
       "      <td>12000000</td>\n",
       "      <td>180</td>\n",
       "    </tr>\n",
       "    <tr>\n",
       "      <th>55</th>\n",
       "      <td>Biotechnology</td>\n",
       "      <td>2008-Q1</td>\n",
       "      <td>10637130</td>\n",
       "      <td>137</td>\n",
       "    </tr>\n",
       "    <tr>\n",
       "      <th>56</th>\n",
       "      <td>Biotechnology</td>\n",
       "      <td>2008-Q2</td>\n",
       "      <td>7283500</td>\n",
       "      <td>102</td>\n",
       "    </tr>\n",
       "    <tr>\n",
       "      <th>57</th>\n",
       "      <td>Biotechnology</td>\n",
       "      <td>2008-Q3</td>\n",
       "      <td>18500000</td>\n",
       "      <td>89</td>\n",
       "    </tr>\n",
       "    <tr>\n",
       "      <th>58</th>\n",
       "      <td>Biotechnology</td>\n",
       "      <td>2008-Q4</td>\n",
       "      <td>15000000</td>\n",
       "      <td>73</td>\n",
       "    </tr>\n",
       "    <tr>\n",
       "      <th>59</th>\n",
       "      <td>Biotechnology</td>\n",
       "      <td>2009-Q1</td>\n",
       "      <td>8300000</td>\n",
       "      <td>167</td>\n",
       "    </tr>\n",
       "    <tr>\n",
       "      <th>60</th>\n",
       "      <td>Biotechnology</td>\n",
       "      <td>2009-Q2</td>\n",
       "      <td>13000000</td>\n",
       "      <td>176</td>\n",
       "    </tr>\n",
       "    <tr>\n",
       "      <th>61</th>\n",
       "      <td>Biotechnology</td>\n",
       "      <td>2009-Q3</td>\n",
       "      <td>15200000</td>\n",
       "      <td>174</td>\n",
       "    </tr>\n",
       "    <tr>\n",
       "      <th>62</th>\n",
       "      <td>Biotechnology</td>\n",
       "      <td>2009-Q4</td>\n",
       "      <td>15000000</td>\n",
       "      <td>323</td>\n",
       "    </tr>\n",
       "    <tr>\n",
       "      <th>63</th>\n",
       "      <td>Biotechnology</td>\n",
       "      <td>2010-Q1</td>\n",
       "      <td>8400000</td>\n",
       "      <td>290</td>\n",
       "    </tr>\n",
       "    <tr>\n",
       "      <th>64</th>\n",
       "      <td>Biotechnology</td>\n",
       "      <td>2010-Q2</td>\n",
       "      <td>15000000</td>\n",
       "      <td>265</td>\n",
       "    </tr>\n",
       "    <tr>\n",
       "      <th>65</th>\n",
       "      <td>Biotechnology</td>\n",
       "      <td>2010-Q3</td>\n",
       "      <td>10000000</td>\n",
       "      <td>281</td>\n",
       "    </tr>\n",
       "    <tr>\n",
       "      <th>66</th>\n",
       "      <td>Biotechnology</td>\n",
       "      <td>2010-Q4</td>\n",
       "      <td>18000000</td>\n",
       "      <td>178</td>\n",
       "    </tr>\n",
       "    <tr>\n",
       "      <th>67</th>\n",
       "      <td>Biotechnology</td>\n",
       "      <td>2011-Q1</td>\n",
       "      <td>11319064</td>\n",
       "      <td>203</td>\n",
       "    </tr>\n",
       "    <tr>\n",
       "      <th>68</th>\n",
       "      <td>Biotechnology</td>\n",
       "      <td>2011-Q2</td>\n",
       "      <td>18300000</td>\n",
       "      <td>213</td>\n",
       "    </tr>\n",
       "    <tr>\n",
       "      <th>69</th>\n",
       "      <td>Biotechnology</td>\n",
       "      <td>2011-Q3</td>\n",
       "      <td>13100000</td>\n",
       "      <td>205</td>\n",
       "    </tr>\n",
       "    <tr>\n",
       "      <th>70</th>\n",
       "      <td>Biotechnology</td>\n",
       "      <td>2011-Q4</td>\n",
       "      <td>10000000</td>\n",
       "      <td>169</td>\n",
       "    </tr>\n",
       "    <tr>\n",
       "      <th>71</th>\n",
       "      <td>Biotechnology</td>\n",
       "      <td>2012-Q1</td>\n",
       "      <td>10308000</td>\n",
       "      <td>296</td>\n",
       "    </tr>\n",
       "    <tr>\n",
       "      <th>72</th>\n",
       "      <td>Biotechnology</td>\n",
       "      <td>2012-Q2</td>\n",
       "      <td>10000000</td>\n",
       "      <td>196</td>\n",
       "    </tr>\n",
       "    <tr>\n",
       "      <th>73</th>\n",
       "      <td>Biotechnology</td>\n",
       "      <td>2012-Q3</td>\n",
       "      <td>15707000</td>\n",
       "      <td>204</td>\n",
       "    </tr>\n",
       "    <tr>\n",
       "      <th>74</th>\n",
       "      <td>Biotechnology</td>\n",
       "      <td>2012-Q4</td>\n",
       "      <td>16000000</td>\n",
       "      <td>229</td>\n",
       "    </tr>\n",
       "    <tr>\n",
       "      <th>75</th>\n",
       "      <td>Biotechnology</td>\n",
       "      <td>2013-Q1</td>\n",
       "      <td>10000000</td>\n",
       "      <td>161</td>\n",
       "    </tr>\n",
       "    <tr>\n",
       "      <th>76</th>\n",
       "      <td>Biotechnology</td>\n",
       "      <td>2013-Q2</td>\n",
       "      <td>15000000</td>\n",
       "      <td>301</td>\n",
       "    </tr>\n",
       "    <tr>\n",
       "      <th>77</th>\n",
       "      <td>Biotechnology</td>\n",
       "      <td>2013-Q3</td>\n",
       "      <td>15439200</td>\n",
       "      <td>271</td>\n",
       "    </tr>\n",
       "    <tr>\n",
       "      <th>78</th>\n",
       "      <td>Biotechnology</td>\n",
       "      <td>2013-Q4</td>\n",
       "      <td>12500000</td>\n",
       "      <td>337</td>\n",
       "    </tr>\n",
       "  </tbody>\n",
       "</table>\n",
       "</div>"
      ],
      "text/plain": [
       "   company_market funded_quarter   funding  startup\n",
       "40  Biotechnology        2004-Q1  38000000       14\n",
       "41  Biotechnology        2004-Q2   2327975        8\n",
       "42  Biotechnology        2004-Q3  13500000       11\n",
       "43  Biotechnology        2005-Q1  10000000       94\n",
       "44  Biotechnology        2005-Q2   4206255       76\n",
       "45  Biotechnology        2005-Q3   8990000      105\n",
       "46  Biotechnology        2005-Q4   9540000       84\n",
       "47  Biotechnology        2006-Q1  11800000      129\n",
       "48  Biotechnology        2006-Q2  20000000      120\n",
       "49  Biotechnology        2006-Q3  13960000      123\n",
       "50  Biotechnology        2006-Q4  16000000      134\n",
       "51  Biotechnology        2007-Q1  22600000      147\n",
       "52  Biotechnology        2007-Q2  15000000      177\n",
       "53  Biotechnology        2007-Q3   8800000      117\n",
       "54  Biotechnology        2007-Q4  12000000      180\n",
       "55  Biotechnology        2008-Q1  10637130      137\n",
       "56  Biotechnology        2008-Q2   7283500      102\n",
       "57  Biotechnology        2008-Q3  18500000       89\n",
       "58  Biotechnology        2008-Q4  15000000       73\n",
       "59  Biotechnology        2009-Q1   8300000      167\n",
       "60  Biotechnology        2009-Q2  13000000      176\n",
       "61  Biotechnology        2009-Q3  15200000      174\n",
       "62  Biotechnology        2009-Q4  15000000      323\n",
       "63  Biotechnology        2010-Q1   8400000      290\n",
       "64  Biotechnology        2010-Q2  15000000      265\n",
       "65  Biotechnology        2010-Q3  10000000      281\n",
       "66  Biotechnology        2010-Q4  18000000      178\n",
       "67  Biotechnology        2011-Q1  11319064      203\n",
       "68  Biotechnology        2011-Q2  18300000      213\n",
       "69  Biotechnology        2011-Q3  13100000      205\n",
       "70  Biotechnology        2011-Q4  10000000      169\n",
       "71  Biotechnology        2012-Q1  10308000      296\n",
       "72  Biotechnology        2012-Q2  10000000      196\n",
       "73  Biotechnology        2012-Q3  15707000      204\n",
       "74  Biotechnology        2012-Q4  16000000      229\n",
       "75  Biotechnology        2013-Q1  10000000      161\n",
       "76  Biotechnology        2013-Q2  15000000      301\n",
       "77  Biotechnology        2013-Q3  15439200      271\n",
       "78  Biotechnology        2013-Q4  12500000      337"
      ]
     },
     "execution_count": 43,
     "metadata": {},
     "output_type": "execute_result"
    }
   ],
   "source": [
    "combined_top15_Final[combined_top15_Final['company_market']==\"Biotechnology\"]"
   ]
  },
  {
   "cell_type": "code",
   "execution_count": 60,
   "metadata": {
    "collapsed": false
   },
   "outputs": [
    {
     "data": {
      "text/plain": [
       "626"
      ]
     },
     "execution_count": 60,
     "metadata": {},
     "output_type": "execute_result"
    }
   ],
   "source": [
    "_unique = combined_top15_Final[['company_market','funded_quarter']]\n",
    "len(_unique)"
   ]
  },
  {
   "cell_type": "code",
   "execution_count": 53,
   "metadata": {
    "collapsed": false
   },
   "outputs": [
    {
     "data": {
      "text/plain": [
       "['Biotechnology',\n",
       " 'Software',\n",
       " 'Clean Technology',\n",
       " 'Health Care',\n",
       " 'E-Commerce',\n",
       " 'Mobile',\n",
       " 'Semiconductors',\n",
       " 'Enterprise Software',\n",
       " 'Advertising',\n",
       " 'Hardware + Software',\n",
       " 'Web Hosting',\n",
       " 'Games',\n",
       " 'Finance',\n",
       " 'Curated Web',\n",
       " 'Security']"
      ]
     },
     "execution_count": 53,
     "metadata": {},
     "output_type": "execute_result"
    }
   ],
   "source": [
    "top15"
   ]
  },
  {
   "cell_type": "code",
   "execution_count": 59,
   "metadata": {
    "collapsed": false
   },
   "outputs": [
    {
     "data": {
      "text/plain": [
       "600"
      ]
     },
     "execution_count": 59,
     "metadata": {},
     "output_type": "execute_result"
    }
   ],
   "source": [
    "_months = set(list(combined_top15_Final['funded_quarter']))\n",
    "_joined = [[x,y] for x in top15 for y in _months]\n",
    "len(_joined)"
   ]
  },
  {
   "cell_type": "code",
   "execution_count": null,
   "metadata": {
    "collapsed": true
   },
   "outputs": [],
   "source": []
  }
 ],
 "metadata": {
  "kernelspec": {
   "display_name": "Python 2",
   "language": "python",
   "name": "python2"
  },
  "language_info": {
   "codemirror_mode": {
    "name": "ipython",
    "version": 2
   },
   "file_extension": ".py",
   "mimetype": "text/x-python",
   "name": "python",
   "nbconvert_exporter": "python",
   "pygments_lexer": "ipython2",
   "version": "2.7.10"
  }
 },
 "nbformat": 4,
 "nbformat_minor": 0
}
