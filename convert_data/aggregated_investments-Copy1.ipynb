{
 "cells": [
  {
   "cell_type": "code",
   "execution_count": 8,
   "metadata": {
    "collapsed": false
   },
   "outputs": [],
   "source": [
    "import pandas as pd\n",
    "\n",
    "\n",
    "# df['raised_amount_usd'] = df['raised_amount_usd'].apply(lambda x: (\"\".join(x.split(\",\"))).strip())\n",
    "# df.loc[df.funding_total_usd == '-', 'raised_amount_usd'] = None\n",
    "# df['raised_amount_usd'] = df['raised_amount_usd'].map(lambda x: float(x) if x is not None else x)\n"
   ]
  },
  {
   "cell_type": "code",
   "execution_count": 9,
   "metadata": {
    "collapsed": true
   },
   "outputs": [],
   "source": [
    "def split_backslash(x):\n",
    "    try:\n",
    "        return str(x).split(\"/\")[1].strip()\n",
    "    except:\n",
    "        return x"
   ]
  },
  {
   "cell_type": "code",
   "execution_count": 10,
   "metadata": {
    "collapsed": false
   },
   "outputs": [],
   "source": [
    "df = pd.read_csv(\"../raw_data_crunchbase/crunchbase-investments.csv\")\n",
    "df = df[df['funded_year']==2013]\n",
    "df['investor_permalink'] = df['investor_permalink'].apply(lambda x: split_backslash(x))\n",
    "df = df.loc[df['investor_permalink']=='organization'] # change to person!!!!!!!\n",
    "\n",
    "# from 20179 to 17617 for raised_amount_usd\n",
    "df = df.loc[df[\"raised_amount_usd\"].notnull()]\n",
    "df['raised_amount_usd'] = df['raised_amount_usd'].apply(lambda x: \"\".join(x.split(\",\")).strip())\n",
    "df.loc[df.raised_amount_usd == '-', 'raised_amount_usd'] = None\n",
    "\n",
    "df['raised_amount_usd'] = df['raised_amount_usd'].map(lambda x: float(x) if x is not None else x)\n",
    "\n",
    "# all present for funding_round_type\n",
    "# df = df.loc[df[\"funding_round_type\"].notnull()]\n",
    "# from 17617 to 16553 for company_country_code\n",
    "df = df.loc[df[\"investor_country_code\"].notnull()]\n",
    "df = df.loc[df[\"company_country_code\"].notnull()]\n",
    "# df = df.loc[df[\"investor_market\"].notnull()]"
   ]
  },
  {
   "cell_type": "code",
   "execution_count": 11,
   "metadata": {
    "collapsed": false
   },
   "outputs": [
    {
     "data": {
      "text/plain": [
       "(11260, 24)"
      ]
     },
     "execution_count": 11,
     "metadata": {},
     "output_type": "execute_result"
    }
   ],
   "source": [
    "df.shape"
   ]
  },
  {
   "cell_type": "code",
   "execution_count": 12,
   "metadata": {
    "collapsed": false
   },
   "outputs": [
    {
     "data": {
      "text/plain": [
       "Index([u'company_permalink', u'company_name', u'company_category_list',\n",
       "       u'company_market', u'company_country_code', u'company_state_code',\n",
       "       u'company_region', u'company_city', u'investor_permalink',\n",
       "       u'investor_name', u'investor_category_list', u'investor_market',\n",
       "       u'investor_country_code', u'investor_state_code', u'investor_region',\n",
       "       u'investor_city', u'funding_round_permalink', u'funding_round_type',\n",
       "       u'funding_round_code', u'funded_at', u'funded_month', u'funded_quarter',\n",
       "       u'funded_year', u'raised_amount_usd'],\n",
       "      dtype='object')"
      ]
     },
     "execution_count": 12,
     "metadata": {},
     "output_type": "execute_result"
    }
   ],
   "source": [
    "df.columns"
   ]
  },
  {
   "cell_type": "code",
   "execution_count": 13,
   "metadata": {
    "collapsed": false
   },
   "outputs": [
    {
     "name": "stdout",
     "output_type": "stream",
     "text": [
      "(436, 3)\n"
     ]
    },
    {
     "data": {
      "text/html": [
       "<div>\n",
       "<table border=\"1\" class=\"dataframe\">\n",
       "  <thead>\n",
       "    <tr style=\"text-align: right;\">\n",
       "      <th></th>\n",
       "      <th>investor_country_code</th>\n",
       "      <th>company_country_code</th>\n",
       "      <th>raised_amount_usd</th>\n",
       "    </tr>\n",
       "  </thead>\n",
       "  <tbody>\n",
       "    <tr>\n",
       "      <th>0</th>\n",
       "      <td>ARG</td>\n",
       "      <td>ARG</td>\n",
       "      <td>29117500</td>\n",
       "    </tr>\n",
       "    <tr>\n",
       "      <th>1</th>\n",
       "      <td>ARG</td>\n",
       "      <td>BRA</td>\n",
       "      <td>23550000</td>\n",
       "    </tr>\n",
       "    <tr>\n",
       "      <th>2</th>\n",
       "      <td>ARG</td>\n",
       "      <td>CHE</td>\n",
       "      <td>75000</td>\n",
       "    </tr>\n",
       "    <tr>\n",
       "      <th>3</th>\n",
       "      <td>ARG</td>\n",
       "      <td>CHL</td>\n",
       "      <td>11060000</td>\n",
       "    </tr>\n",
       "    <tr>\n",
       "      <th>4</th>\n",
       "      <td>ARG</td>\n",
       "      <td>COL</td>\n",
       "      <td>25000</td>\n",
       "    </tr>\n",
       "  </tbody>\n",
       "</table>\n",
       "</div>"
      ],
      "text/plain": [
       "  investor_country_code company_country_code  raised_amount_usd\n",
       "0                   ARG                  ARG           29117500\n",
       "1                   ARG                  BRA           23550000\n",
       "2                   ARG                  CHE              75000\n",
       "3                   ARG                  CHL           11060000\n",
       "4                   ARG                  COL              25000"
      ]
     },
     "execution_count": 13,
     "metadata": {},
     "output_type": "execute_result"
    }
   ],
   "source": [
    "subset_df = df[[\"investor_country_code\",\n",
    "                \"company_country_code\",\n",
    "                \"raised_amount_usd\"]]\n",
    "# grouped = subset_df.groupby(['investor_name', 'investor_market'])\n",
    "agg_df = subset_df.groupby([\"investor_country_code\",\"company_country_code\"]).sum().reset_index()\n",
    "print(agg_df.shape)\n",
    "agg_df.head()"
   ]
  },
  {
   "cell_type": "code",
   "execution_count": 26,
   "metadata": {
    "collapsed": false
   },
   "outputs": [],
   "source": [
    "# agg_wide = agg_df.pivot(index='investor_country_code', columns='company_country_code', values='raised_amount_usd')\n",
    "\n",
    "agg_wide = pd.DataFrame(agg_df.set_index(['investor_country_code', 'company_country_code']).unstack('company_country_code').reset_index())\n",
    "agg_wide = agg_wide.fillna(0)"
   ]
  },
  {
   "cell_type": "code",
   "execution_count": 27,
   "metadata": {
    "collapsed": false
   },
   "outputs": [
    {
     "data": {
      "text/html": [
       "<div>\n",
       "<table border=\"1\" class=\"dataframe\">\n",
       "  <thead>\n",
       "    <tr>\n",
       "      <th></th>\n",
       "      <th>investor_country_code</th>\n",
       "      <th colspan=\"20\" halign=\"left\">raised_amount_usd</th>\n",
       "    </tr>\n",
       "    <tr>\n",
       "      <th>company_country_code</th>\n",
       "      <th></th>\n",
       "      <th>ARE</th>\n",
       "      <th>ARG</th>\n",
       "      <th>ARM</th>\n",
       "      <th>AUS</th>\n",
       "      <th>AUT</th>\n",
       "      <th>AZE</th>\n",
       "      <th>BEL</th>\n",
       "      <th>BGD</th>\n",
       "      <th>BGR</th>\n",
       "      <th>...</th>\n",
       "      <th>SAU</th>\n",
       "      <th>SGP</th>\n",
       "      <th>SLV</th>\n",
       "      <th>SVK</th>\n",
       "      <th>SWE</th>\n",
       "      <th>THA</th>\n",
       "      <th>TUR</th>\n",
       "      <th>TWN</th>\n",
       "      <th>UKR</th>\n",
       "      <th>USA</th>\n",
       "    </tr>\n",
       "  </thead>\n",
       "  <tbody>\n",
       "    <tr>\n",
       "      <th>0</th>\n",
       "      <td>ARG</td>\n",
       "      <td>0</td>\n",
       "      <td>29117500</td>\n",
       "      <td>0</td>\n",
       "      <td>0</td>\n",
       "      <td>0</td>\n",
       "      <td>0</td>\n",
       "      <td>0</td>\n",
       "      <td>0</td>\n",
       "      <td>0</td>\n",
       "      <td>...</td>\n",
       "      <td>0</td>\n",
       "      <td>0</td>\n",
       "      <td>0</td>\n",
       "      <td>0</td>\n",
       "      <td>0</td>\n",
       "      <td>0</td>\n",
       "      <td>0</td>\n",
       "      <td>0</td>\n",
       "      <td>0</td>\n",
       "      <td>710000</td>\n",
       "    </tr>\n",
       "    <tr>\n",
       "      <th>1</th>\n",
       "      <td>AUS</td>\n",
       "      <td>0</td>\n",
       "      <td>0</td>\n",
       "      <td>0</td>\n",
       "      <td>107565269</td>\n",
       "      <td>0</td>\n",
       "      <td>0</td>\n",
       "      <td>0</td>\n",
       "      <td>0</td>\n",
       "      <td>0</td>\n",
       "      <td>...</td>\n",
       "      <td>0</td>\n",
       "      <td>19740000</td>\n",
       "      <td>0</td>\n",
       "      <td>0</td>\n",
       "      <td>0</td>\n",
       "      <td>0</td>\n",
       "      <td>0</td>\n",
       "      <td>0</td>\n",
       "      <td>0</td>\n",
       "      <td>416222833</td>\n",
       "    </tr>\n",
       "    <tr>\n",
       "      <th>2</th>\n",
       "      <td>AUT</td>\n",
       "      <td>0</td>\n",
       "      <td>0</td>\n",
       "      <td>0</td>\n",
       "      <td>0</td>\n",
       "      <td>0</td>\n",
       "      <td>0</td>\n",
       "      <td>0</td>\n",
       "      <td>0</td>\n",
       "      <td>0</td>\n",
       "      <td>...</td>\n",
       "      <td>0</td>\n",
       "      <td>800000</td>\n",
       "      <td>0</td>\n",
       "      <td>0</td>\n",
       "      <td>0</td>\n",
       "      <td>0</td>\n",
       "      <td>1801240</td>\n",
       "      <td>0</td>\n",
       "      <td>0</td>\n",
       "      <td>0</td>\n",
       "    </tr>\n",
       "    <tr>\n",
       "      <th>3</th>\n",
       "      <td>AZE</td>\n",
       "      <td>0</td>\n",
       "      <td>0</td>\n",
       "      <td>0</td>\n",
       "      <td>0</td>\n",
       "      <td>0</td>\n",
       "      <td>100000</td>\n",
       "      <td>0</td>\n",
       "      <td>0</td>\n",
       "      <td>0</td>\n",
       "      <td>...</td>\n",
       "      <td>0</td>\n",
       "      <td>0</td>\n",
       "      <td>0</td>\n",
       "      <td>0</td>\n",
       "      <td>0</td>\n",
       "      <td>0</td>\n",
       "      <td>0</td>\n",
       "      <td>0</td>\n",
       "      <td>0</td>\n",
       "      <td>0</td>\n",
       "    </tr>\n",
       "    <tr>\n",
       "      <th>4</th>\n",
       "      <td>BEL</td>\n",
       "      <td>0</td>\n",
       "      <td>0</td>\n",
       "      <td>0</td>\n",
       "      <td>26000000</td>\n",
       "      <td>0</td>\n",
       "      <td>0</td>\n",
       "      <td>68790507</td>\n",
       "      <td>0</td>\n",
       "      <td>0</td>\n",
       "      <td>...</td>\n",
       "      <td>0</td>\n",
       "      <td>0</td>\n",
       "      <td>0</td>\n",
       "      <td>0</td>\n",
       "      <td>0</td>\n",
       "      <td>0</td>\n",
       "      <td>0</td>\n",
       "      <td>0</td>\n",
       "      <td>0</td>\n",
       "      <td>66800000</td>\n",
       "    </tr>\n",
       "  </tbody>\n",
       "</table>\n",
       "<p>5 rows × 71 columns</p>\n",
       "</div>"
      ],
      "text/plain": [
       "                     investor_country_code raised_amount_usd                \\\n",
       "company_country_code                                     ARE       ARG ARM   \n",
       "0                                      ARG                 0  29117500   0   \n",
       "1                                      AUS                 0         0   0   \n",
       "2                                      AUT                 0         0   0   \n",
       "3                                      AZE                 0         0   0   \n",
       "4                                      BEL                 0         0   0   \n",
       "\n",
       "                                                                 ...          \\\n",
       "company_country_code        AUS AUT     AZE       BEL BGD BGR    ...     SAU   \n",
       "0                             0   0       0         0   0   0    ...       0   \n",
       "1                     107565269   0       0         0   0   0    ...       0   \n",
       "2                             0   0       0         0   0   0    ...       0   \n",
       "3                             0   0  100000         0   0   0    ...       0   \n",
       "4                      26000000   0       0  68790507   0   0    ...       0   \n",
       "\n",
       "                                                                            \n",
       "company_country_code       SGP SLV SVK SWE THA      TUR TWN UKR        USA  \n",
       "0                            0   0   0   0   0        0   0   0     710000  \n",
       "1                     19740000   0   0   0   0        0   0   0  416222833  \n",
       "2                       800000   0   0   0   0  1801240   0   0          0  \n",
       "3                            0   0   0   0   0        0   0   0          0  \n",
       "4                            0   0   0   0   0        0   0   0   66800000  \n",
       "\n",
       "[5 rows x 71 columns]"
      ]
     },
     "execution_count": 27,
     "metadata": {},
     "output_type": "execute_result"
    }
   ],
   "source": [
    "agg_wide.head()"
   ]
  },
  {
   "cell_type": "code",
   "execution_count": 28,
   "metadata": {
    "collapsed": true
   },
   "outputs": [],
   "source": [
    "agg_df.to_csv(\"aggregated-long-country2country.csv\", index=False)\n",
    "agg_wide.to_csv(\"aggregated-wide-country2country.csv\", index=False)"
   ]
  },
  {
   "cell_type": "code",
   "execution_count": null,
   "metadata": {
    "collapsed": true
   },
   "outputs": [],
   "source": []
  }
 ],
 "metadata": {
  "kernelspec": {
   "display_name": "Python 2",
   "language": "python",
   "name": "python2"
  },
  "language_info": {
   "codemirror_mode": {
    "name": "ipython",
    "version": 2
   },
   "file_extension": ".py",
   "mimetype": "text/x-python",
   "name": "python",
   "nbconvert_exporter": "python",
   "pygments_lexer": "ipython2",
   "version": "2.7.10"
  }
 },
 "nbformat": 4,
 "nbformat_minor": 0
}
