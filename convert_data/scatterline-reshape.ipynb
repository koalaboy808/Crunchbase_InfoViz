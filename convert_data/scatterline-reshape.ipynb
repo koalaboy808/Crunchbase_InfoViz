{
 "cells": [
  {
   "cell_type": "code",
   "execution_count": 110,
   "metadata": {
    "collapsed": false
   },
   "outputs": [],
   "source": [
    "import pandas as pd\n",
    "\n",
    "\n",
    "# df['raised_amount_usd'] = df['raised_amount_usd'].apply(lambda x: (\"\".join(x.split(\",\"))).strip())\n",
    "# df.loc[df.funding_total_usd == '-', 'raised_amount_usd'] = None\n",
    "# df['raised_amount_usd'] = df['raised_amount_usd'].map(lambda x: float(x) if x is not None else x)\n"
   ]
  },
  {
   "cell_type": "code",
   "execution_count": 111,
   "metadata": {
    "collapsed": true
   },
   "outputs": [],
   "source": [
    "def split_backslash(x):\n",
    "    try:\n",
    "        return str(x).split(\"/\")[1].strip()\n",
    "    except:\n",
    "        return x"
   ]
  },
  {
   "cell_type": "code",
   "execution_count": 112,
   "metadata": {
    "collapsed": false
   },
   "outputs": [],
   "source": [
    "raw_unicorns = pd.read_csv(\"scrapunicrons_2016/unicorns.csv\",header=None)\n",
    "list_unicorns = list(raw_unicorns[0])\n",
    "list_unicorns_lower = [x.lower().replace(\" \", \"\") for x in list_unicorns]"
   ]
  },
  {
   "cell_type": "code",
   "execution_count": 113,
   "metadata": {
    "collapsed": false
   },
   "outputs": [],
   "source": [
    "df = pd.read_csv(\"../raw_data_crunchbase/crunchbase-investments.csv\")\n",
    "# df = df[df['funded_year']==2013]\n",
    "df['investor_permalink'] = df['investor_permalink'].apply(lambda x: split_backslash(x))\n",
    "df = df.loc[df['investor_permalink']=='organization'] # change to person!!!!!!!\n",
    "\n",
    "# from 20179 to 17617 for raised_amount_usd\n",
    "df = df.loc[df[\"raised_amount_usd\"].notnull()]\n",
    "df['raised_amount_usd'] = df['raised_amount_usd'].apply(lambda x: \"\".join(x.split(\",\")).strip())\n",
    "df.loc[df.raised_amount_usd == '-', 'raised_amount_usd'] = None\n",
    "\n",
    "df['raised_amount_usd'] = df['raised_amount_usd'].map(lambda x: float(x) if x is not None else x)\n",
    "\n",
    "# # all present for funding_round_type\n",
    "# df = df.loc[df[\"funding_round_type\"].notnull()]\n",
    "\n",
    "# df = df.loc[df[\"investor_country_code\"].notnull()]\n",
    "# df = df.loc[df[\"company_country_code\"].notnull()]"
   ]
  },
  {
   "cell_type": "code",
   "execution_count": 114,
   "metadata": {
    "collapsed": false
   },
   "outputs": [
    {
     "data": {
      "text/plain": [
       "(78863, 24)"
      ]
     },
     "execution_count": 114,
     "metadata": {},
     "output_type": "execute_result"
    }
   ],
   "source": [
    "df.shape"
   ]
  },
  {
   "cell_type": "code",
   "execution_count": 115,
   "metadata": {
    "collapsed": false
   },
   "outputs": [
    {
     "data": {
      "text/plain": [
       "Index([u'company_permalink', u'company_name', u'company_category_list',\n",
       "       u'company_market', u'company_country_code', u'company_state_code',\n",
       "       u'company_region', u'company_city', u'investor_permalink',\n",
       "       u'investor_name', u'investor_category_list', u'investor_market',\n",
       "       u'investor_country_code', u'investor_state_code', u'investor_region',\n",
       "       u'investor_city', u'funding_round_permalink', u'funding_round_type',\n",
       "       u'funding_round_code', u'funded_at', u'funded_month', u'funded_quarter',\n",
       "       u'funded_year', u'raised_amount_usd'],\n",
       "      dtype='object')"
      ]
     },
     "execution_count": 115,
     "metadata": {},
     "output_type": "execute_result"
    }
   ],
   "source": [
    "df.columns"
   ]
  },
  {
   "cell_type": "code",
   "execution_count": 116,
   "metadata": {
    "collapsed": true
   },
   "outputs": [],
   "source": [
    "subset_df = df[[\"company_name\", \"company_country_code\", \"company_city\", \"company_market\",\n",
    "                \"investor_name\",\"investor_country_code\",\"investor_city\",\n",
    "                \"funded_at\",\"funded_month\",\"funded_year\",\"raised_amount_usd\"]]"
   ]
  },
  {
   "cell_type": "code",
   "execution_count": 117,
   "metadata": {
    "collapsed": true
   },
   "outputs": [],
   "source": [
    "years_wanted = [2004,2005,2006,2007,2008,2009,2010,2011,2012,2013]"
   ]
  },
  {
   "cell_type": "code",
   "execution_count": 118,
   "metadata": {
    "collapsed": false
   },
   "outputs": [],
   "source": [
    "subset_df = subset_df.loc[subset_df['funded_year'].isin(years_wanted)]\n",
    "# subset_df = subset_df[subset_df['funded_year']>=2004 and subset_df['funded_year']>=2013]"
   ]
  },
  {
   "cell_type": "code",
   "execution_count": 119,
   "metadata": {
    "collapsed": false
   },
   "outputs": [
    {
     "data": {
      "text/html": [
       "<div>\n",
       "<table border=\"1\" class=\"dataframe\">\n",
       "  <thead>\n",
       "    <tr style=\"text-align: right;\">\n",
       "      <th></th>\n",
       "      <th>company_name</th>\n",
       "      <th>company_country_code</th>\n",
       "      <th>company_city</th>\n",
       "      <th>company_market</th>\n",
       "      <th>investor_name</th>\n",
       "      <th>investor_country_code</th>\n",
       "      <th>investor_city</th>\n",
       "      <th>funded_at</th>\n",
       "      <th>funded_month</th>\n",
       "      <th>funded_year</th>\n",
       "      <th>raised_amount_usd</th>\n",
       "    </tr>\n",
       "  </thead>\n",
       "  <tbody>\n",
       "    <tr>\n",
       "      <th>13</th>\n",
       "      <td>AbilTo</td>\n",
       "      <td>USA</td>\n",
       "      <td>New York</td>\n",
       "      <td>Health and Wellness</td>\n",
       "      <td>.406 Ventures</td>\n",
       "      <td>USA</td>\n",
       "      <td>Boston</td>\n",
       "      <td>05/14/2013 00:00</td>\n",
       "      <td>2013-05</td>\n",
       "      <td>2013</td>\n",
       "      <td>3000000</td>\n",
       "    </tr>\n",
       "    <tr>\n",
       "      <th>14</th>\n",
       "      <td>Ambient Devices</td>\n",
       "      <td>NaN</td>\n",
       "      <td>NaN</td>\n",
       "      <td>Mobile</td>\n",
       "      <td>.406 Ventures</td>\n",
       "      <td>USA</td>\n",
       "      <td>Boston</td>\n",
       "      <td>09/16/2008 00:00</td>\n",
       "      <td>2008-09</td>\n",
       "      <td>2008</td>\n",
       "      <td>5000000</td>\n",
       "    </tr>\n",
       "    <tr>\n",
       "      <th>15</th>\n",
       "      <td>Urban Compass</td>\n",
       "      <td>USA</td>\n",
       "      <td>New York</td>\n",
       "      <td>Local</td>\n",
       "      <td>.406 Ventures</td>\n",
       "      <td>USA</td>\n",
       "      <td>Boston</td>\n",
       "      <td>12/17/2012 00:00</td>\n",
       "      <td>2012-12</td>\n",
       "      <td>2012</td>\n",
       "      <td>8000000</td>\n",
       "    </tr>\n",
       "    <tr>\n",
       "      <th>16</th>\n",
       "      <td>MineralTree</td>\n",
       "      <td>USA</td>\n",
       "      <td>Cambridge</td>\n",
       "      <td>Analytics</td>\n",
       "      <td>.406 Ventures</td>\n",
       "      <td>USA</td>\n",
       "      <td>Boston</td>\n",
       "      <td>06/27/2012 00:00</td>\n",
       "      <td>2012-06</td>\n",
       "      <td>2012</td>\n",
       "      <td>6300000</td>\n",
       "    </tr>\n",
       "    <tr>\n",
       "      <th>17</th>\n",
       "      <td>Connotate</td>\n",
       "      <td>USA</td>\n",
       "      <td>New Brunswick</td>\n",
       "      <td>Analytics</td>\n",
       "      <td>.406 Ventures</td>\n",
       "      <td>USA</td>\n",
       "      <td>Boston</td>\n",
       "      <td>04/12/2012 00:00</td>\n",
       "      <td>2012-04</td>\n",
       "      <td>2012</td>\n",
       "      <td>7000000</td>\n",
       "    </tr>\n",
       "  </tbody>\n",
       "</table>\n",
       "</div>"
      ],
      "text/plain": [
       "       company_name company_country_code   company_city       company_market  \\\n",
       "13           AbilTo                  USA       New York  Health and Wellness   \n",
       "14  Ambient Devices                  NaN            NaN               Mobile   \n",
       "15    Urban Compass                  USA       New York                Local   \n",
       "16      MineralTree                  USA      Cambridge            Analytics   \n",
       "17        Connotate                  USA  New Brunswick            Analytics   \n",
       "\n",
       "    investor_name investor_country_code investor_city         funded_at  \\\n",
       "13  .406 Ventures                   USA        Boston  05/14/2013 00:00   \n",
       "14  .406 Ventures                   USA        Boston  09/16/2008 00:00   \n",
       "15  .406 Ventures                   USA        Boston  12/17/2012 00:00   \n",
       "16  .406 Ventures                   USA        Boston  06/27/2012 00:00   \n",
       "17  .406 Ventures                   USA        Boston  04/12/2012 00:00   \n",
       "\n",
       "   funded_month  funded_year  raised_amount_usd  \n",
       "13      2013-05         2013            3000000  \n",
       "14      2008-09         2008            5000000  \n",
       "15      2012-12         2012            8000000  \n",
       "16      2012-06         2012            6300000  \n",
       "17      2012-04         2012            7000000  "
      ]
     },
     "execution_count": 119,
     "metadata": {},
     "output_type": "execute_result"
    }
   ],
   "source": [
    "subset_df.head()"
   ]
  },
  {
   "cell_type": "code",
   "execution_count": 120,
   "metadata": {
    "collapsed": true
   },
   "outputs": [],
   "source": [
    "# subset_df.to_csv(\"aggregated-investments-maptime.csv\", index=False)"
   ]
  },
  {
   "cell_type": "code",
   "execution_count": 121,
   "metadata": {
    "collapsed": true
   },
   "outputs": [],
   "source": [
    "add_unicorns = subset_df.copy()"
   ]
  },
  {
   "cell_type": "code",
   "execution_count": 122,
   "metadata": {
    "collapsed": false
   },
   "outputs": [
    {
     "data": {
      "text/plain": [
       "(67351, 11)"
      ]
     },
     "execution_count": 122,
     "metadata": {},
     "output_type": "execute_result"
    }
   ],
   "source": [
    "add_unicorns.shape"
   ]
  },
  {
   "cell_type": "code",
   "execution_count": 123,
   "metadata": {
    "collapsed": false
   },
   "outputs": [],
   "source": [
    "add_unicorns['company_name_lower'] = add_unicorns['company_name'].apply(lambda x: str(x).lower().replace(\" \", \"\"))"
   ]
  },
  {
   "cell_type": "code",
   "execution_count": 124,
   "metadata": {
    "collapsed": false
   },
   "outputs": [
    {
     "data": {
      "text/html": [
       "<div>\n",
       "<table border=\"1\" class=\"dataframe\">\n",
       "  <thead>\n",
       "    <tr style=\"text-align: right;\">\n",
       "      <th></th>\n",
       "      <th>company_name</th>\n",
       "      <th>company_country_code</th>\n",
       "      <th>company_city</th>\n",
       "      <th>company_market</th>\n",
       "      <th>investor_name</th>\n",
       "      <th>investor_country_code</th>\n",
       "      <th>investor_city</th>\n",
       "      <th>funded_at</th>\n",
       "      <th>funded_month</th>\n",
       "      <th>funded_year</th>\n",
       "      <th>raised_amount_usd</th>\n",
       "      <th>company_name_lower</th>\n",
       "    </tr>\n",
       "  </thead>\n",
       "  <tbody>\n",
       "    <tr>\n",
       "      <th>13</th>\n",
       "      <td>AbilTo</td>\n",
       "      <td>USA</td>\n",
       "      <td>New York</td>\n",
       "      <td>Health and Wellness</td>\n",
       "      <td>.406 Ventures</td>\n",
       "      <td>USA</td>\n",
       "      <td>Boston</td>\n",
       "      <td>05/14/2013 00:00</td>\n",
       "      <td>2013-05</td>\n",
       "      <td>2013</td>\n",
       "      <td>3000000</td>\n",
       "      <td>abilto</td>\n",
       "    </tr>\n",
       "    <tr>\n",
       "      <th>14</th>\n",
       "      <td>Ambient Devices</td>\n",
       "      <td>NaN</td>\n",
       "      <td>NaN</td>\n",
       "      <td>Mobile</td>\n",
       "      <td>.406 Ventures</td>\n",
       "      <td>USA</td>\n",
       "      <td>Boston</td>\n",
       "      <td>09/16/2008 00:00</td>\n",
       "      <td>2008-09</td>\n",
       "      <td>2008</td>\n",
       "      <td>5000000</td>\n",
       "      <td>ambientdevices</td>\n",
       "    </tr>\n",
       "    <tr>\n",
       "      <th>15</th>\n",
       "      <td>Urban Compass</td>\n",
       "      <td>USA</td>\n",
       "      <td>New York</td>\n",
       "      <td>Local</td>\n",
       "      <td>.406 Ventures</td>\n",
       "      <td>USA</td>\n",
       "      <td>Boston</td>\n",
       "      <td>12/17/2012 00:00</td>\n",
       "      <td>2012-12</td>\n",
       "      <td>2012</td>\n",
       "      <td>8000000</td>\n",
       "      <td>urbancompass</td>\n",
       "    </tr>\n",
       "    <tr>\n",
       "      <th>16</th>\n",
       "      <td>MineralTree</td>\n",
       "      <td>USA</td>\n",
       "      <td>Cambridge</td>\n",
       "      <td>Analytics</td>\n",
       "      <td>.406 Ventures</td>\n",
       "      <td>USA</td>\n",
       "      <td>Boston</td>\n",
       "      <td>06/27/2012 00:00</td>\n",
       "      <td>2012-06</td>\n",
       "      <td>2012</td>\n",
       "      <td>6300000</td>\n",
       "      <td>mineraltree</td>\n",
       "    </tr>\n",
       "    <tr>\n",
       "      <th>17</th>\n",
       "      <td>Connotate</td>\n",
       "      <td>USA</td>\n",
       "      <td>New Brunswick</td>\n",
       "      <td>Analytics</td>\n",
       "      <td>.406 Ventures</td>\n",
       "      <td>USA</td>\n",
       "      <td>Boston</td>\n",
       "      <td>04/12/2012 00:00</td>\n",
       "      <td>2012-04</td>\n",
       "      <td>2012</td>\n",
       "      <td>7000000</td>\n",
       "      <td>connotate</td>\n",
       "    </tr>\n",
       "  </tbody>\n",
       "</table>\n",
       "</div>"
      ],
      "text/plain": [
       "       company_name company_country_code   company_city       company_market  \\\n",
       "13           AbilTo                  USA       New York  Health and Wellness   \n",
       "14  Ambient Devices                  NaN            NaN               Mobile   \n",
       "15    Urban Compass                  USA       New York                Local   \n",
       "16      MineralTree                  USA      Cambridge            Analytics   \n",
       "17        Connotate                  USA  New Brunswick            Analytics   \n",
       "\n",
       "    investor_name investor_country_code investor_city         funded_at  \\\n",
       "13  .406 Ventures                   USA        Boston  05/14/2013 00:00   \n",
       "14  .406 Ventures                   USA        Boston  09/16/2008 00:00   \n",
       "15  .406 Ventures                   USA        Boston  12/17/2012 00:00   \n",
       "16  .406 Ventures                   USA        Boston  06/27/2012 00:00   \n",
       "17  .406 Ventures                   USA        Boston  04/12/2012 00:00   \n",
       "\n",
       "   funded_month  funded_year  raised_amount_usd company_name_lower  \n",
       "13      2013-05         2013            3000000             abilto  \n",
       "14      2008-09         2008            5000000     ambientdevices  \n",
       "15      2012-12         2012            8000000       urbancompass  \n",
       "16      2012-06         2012            6300000        mineraltree  \n",
       "17      2012-04         2012            7000000          connotate  "
      ]
     },
     "execution_count": 124,
     "metadata": {},
     "output_type": "execute_result"
    }
   ],
   "source": [
    "add_unicorns.head()"
   ]
  },
  {
   "cell_type": "code",
   "execution_count": 125,
   "metadata": {
    "collapsed": false
   },
   "outputs": [],
   "source": [
    "add_unicorns['unicorn_flag'] = add_unicorns['company_name_lower'].apply(lambda x: x in list_unicorns_lower)"
   ]
  },
  {
   "cell_type": "code",
   "execution_count": 126,
   "metadata": {
    "collapsed": false
   },
   "outputs": [],
   "source": [
    "unicorns_df = add_unicorns[add_unicorns['unicorn_flag']==True]"
   ]
  },
  {
   "cell_type": "code",
   "execution_count": 127,
   "metadata": {
    "collapsed": false
   },
   "outputs": [
    {
     "data": {
      "text/html": [
       "<div>\n",
       "<table border=\"1\" class=\"dataframe\">\n",
       "  <thead>\n",
       "    <tr style=\"text-align: right;\">\n",
       "      <th></th>\n",
       "      <th>company_name</th>\n",
       "      <th>company_country_code</th>\n",
       "      <th>company_city</th>\n",
       "      <th>company_market</th>\n",
       "      <th>investor_name</th>\n",
       "      <th>investor_country_code</th>\n",
       "      <th>investor_city</th>\n",
       "      <th>funded_at</th>\n",
       "      <th>funded_month</th>\n",
       "      <th>funded_year</th>\n",
       "      <th>raised_amount_usd</th>\n",
       "      <th>company_name_lower</th>\n",
       "      <th>unicorn_flag</th>\n",
       "    </tr>\n",
       "  </thead>\n",
       "  <tbody>\n",
       "    <tr>\n",
       "      <th>169</th>\n",
       "      <td>Vice Media</td>\n",
       "      <td>USA</td>\n",
       "      <td>Brooklyn</td>\n",
       "      <td>Video Streaming</td>\n",
       "      <td>21st Century Fox</td>\n",
       "      <td>USA</td>\n",
       "      <td>New York</td>\n",
       "      <td>08/01/2013 00:00</td>\n",
       "      <td>2013-08</td>\n",
       "      <td>2013</td>\n",
       "      <td>70000000</td>\n",
       "      <td>vicemedia</td>\n",
       "      <td>True</td>\n",
       "    </tr>\n",
       "    <tr>\n",
       "      <th>571</th>\n",
       "      <td>Symphony</td>\n",
       "      <td>USA</td>\n",
       "      <td>Palo Alto</td>\n",
       "      <td>None</td>\n",
       "      <td>500 Startups</td>\n",
       "      <td>USA</td>\n",
       "      <td>Mountain View</td>\n",
       "      <td>01/17/2011 00:00</td>\n",
       "      <td>2011-01</td>\n",
       "      <td>2011</td>\n",
       "      <td>100000</td>\n",
       "      <td>symphony</td>\n",
       "      <td>True</td>\n",
       "    </tr>\n",
       "    <tr>\n",
       "      <th>742</th>\n",
       "      <td>Twilio</td>\n",
       "      <td>USA</td>\n",
       "      <td>San Francisco</td>\n",
       "      <td>Enterprise Software</td>\n",
       "      <td>500 Startups</td>\n",
       "      <td>USA</td>\n",
       "      <td>Mountain View</td>\n",
       "      <td>11/09/2010 00:00</td>\n",
       "      <td>2010-11</td>\n",
       "      <td>2010</td>\n",
       "      <td>12000000</td>\n",
       "      <td>twilio</td>\n",
       "      <td>True</td>\n",
       "    </tr>\n",
       "    <tr>\n",
       "      <th>810</th>\n",
       "      <td>Credit Karma</td>\n",
       "      <td>USA</td>\n",
       "      <td>San Francisco</td>\n",
       "      <td>Finance</td>\n",
       "      <td>500 Startups</td>\n",
       "      <td>USA</td>\n",
       "      <td>Mountain View</td>\n",
       "      <td>04/02/2013 00:00</td>\n",
       "      <td>2013-04</td>\n",
       "      <td>2013</td>\n",
       "      <td>30000000</td>\n",
       "      <td>creditkarma</td>\n",
       "      <td>True</td>\n",
       "    </tr>\n",
       "    <tr>\n",
       "      <th>1240</th>\n",
       "      <td>Fab</td>\n",
       "      <td>USA</td>\n",
       "      <td>New York</td>\n",
       "      <td>Design</td>\n",
       "      <td>A-Grade Investments</td>\n",
       "      <td>USA</td>\n",
       "      <td>Los Angeles</td>\n",
       "      <td>08/11/2011 00:00</td>\n",
       "      <td>2011-08</td>\n",
       "      <td>2011</td>\n",
       "      <td>7700000</td>\n",
       "      <td>fab</td>\n",
       "      <td>True</td>\n",
       "    </tr>\n",
       "  </tbody>\n",
       "</table>\n",
       "</div>"
      ],
      "text/plain": [
       "      company_name company_country_code   company_city       company_market  \\\n",
       "169     Vice Media                  USA       Brooklyn      Video Streaming   \n",
       "571       Symphony                  USA      Palo Alto                 None   \n",
       "742         Twilio                  USA  San Francisco  Enterprise Software   \n",
       "810   Credit Karma                  USA  San Francisco              Finance   \n",
       "1240           Fab                  USA       New York               Design   \n",
       "\n",
       "            investor_name investor_country_code  investor_city  \\\n",
       "169      21st Century Fox                   USA       New York   \n",
       "571          500 Startups                   USA  Mountain View   \n",
       "742          500 Startups                   USA  Mountain View   \n",
       "810          500 Startups                   USA  Mountain View   \n",
       "1240  A-Grade Investments                   USA    Los Angeles   \n",
       "\n",
       "             funded_at funded_month  funded_year  raised_amount_usd  \\\n",
       "169   08/01/2013 00:00      2013-08         2013           70000000   \n",
       "571   01/17/2011 00:00      2011-01         2011             100000   \n",
       "742   11/09/2010 00:00      2010-11         2010           12000000   \n",
       "810   04/02/2013 00:00      2013-04         2013           30000000   \n",
       "1240  08/11/2011 00:00      2011-08         2011            7700000   \n",
       "\n",
       "     company_name_lower unicorn_flag  \n",
       "169           vicemedia         True  \n",
       "571            symphony         True  \n",
       "742              twilio         True  \n",
       "810         creditkarma         True  \n",
       "1240                fab         True  "
      ]
     },
     "execution_count": 127,
     "metadata": {},
     "output_type": "execute_result"
    }
   ],
   "source": [
    "unicorns_df.head()"
   ]
  },
  {
   "cell_type": "code",
   "execution_count": 128,
   "metadata": {
    "collapsed": false
   },
   "outputs": [
    {
     "data": {
      "text/plain": [
       "236"
      ]
     },
     "execution_count": 128,
     "metadata": {},
     "output_type": "execute_result"
    }
   ],
   "source": [
    "len(list_unicorns_lower)"
   ]
  },
  {
   "cell_type": "code",
   "execution_count": 129,
   "metadata": {
    "collapsed": false
   },
   "outputs": [
    {
     "data": {
      "text/plain": [
       "170"
      ]
     },
     "execution_count": 129,
     "metadata": {},
     "output_type": "execute_result"
    }
   ],
   "source": [
    "len(set(unicorns_df['company_name']))"
   ]
  },
  {
   "cell_type": "code",
   "execution_count": 130,
   "metadata": {
    "collapsed": true
   },
   "outputs": [],
   "source": [
    "add_unicorns.to_csv(\"investments-unicorns.csv\", index=False)"
   ]
  },
  {
   "cell_type": "code",
   "execution_count": null,
   "metadata": {
    "collapsed": true
   },
   "outputs": [],
   "source": []
  }
 ],
 "metadata": {
  "kernelspec": {
   "display_name": "Python 2",
   "language": "python",
   "name": "python2"
  },
  "language_info": {
   "codemirror_mode": {
    "name": "ipython",
    "version": 2
   },
   "file_extension": ".py",
   "mimetype": "text/x-python",
   "name": "python",
   "nbconvert_exporter": "python",
   "pygments_lexer": "ipython2",
   "version": "2.7.10"
  }
 },
 "nbformat": 4,
 "nbformat_minor": 0
}
